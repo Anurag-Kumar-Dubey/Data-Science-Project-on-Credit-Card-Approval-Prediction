{
 "cells": [
  {
   "cell_type": "code",
   "execution_count": 1,
   "metadata": {
    "colab": {
     "base_uri": "https://localhost:8080/"
    },
    "id": "YVaG_j5WsAJI",
    "outputId": "028f9b5d-9e06-4106-ca36-32f807ae4c73"
   },
   "outputs": [
    {
     "name": "stdout",
     "output_type": "stream",
     "text": [
      "Requirement already satisfied: pyspark in c:\\users\\anura\\.conda\\envs\\new_env\\lib\\site-packages (3.4.1)\n",
      "Requirement already satisfied: py4j==0.10.9.7 in c:\\users\\anura\\.conda\\envs\\new_env\\lib\\site-packages (from pyspark) (0.10.9.7)\n"
     ]
    }
   ],
   "source": [
    "#installing pyspark\n",
    "! pip install pyspark"
   ]
  },
  {
   "cell_type": "code",
   "execution_count": 2,
   "metadata": {
    "id": "713ac951"
   },
   "outputs": [],
   "source": [
    "from pyspark.sql import SparkSession"
   ]
  },
  {
   "cell_type": "code",
   "execution_count": 3,
   "metadata": {
    "id": "47661409"
   },
   "outputs": [],
   "source": [
    "# Creating a new SparkSession named 'Project'.\n",
    "spark=SparkSession.builder.appName('Project').getOrCreate()"
   ]
  },
  {
   "cell_type": "code",
   "execution_count": 4,
   "metadata": {
    "colab": {
     "base_uri": "https://localhost:8080/",
     "height": 219
    },
    "id": "8f46679b",
    "outputId": "efa8ba63-f3b5-4abb-fe83-00e2ea426ec0"
   },
   "outputs": [
    {
     "data": {
      "text/html": [
       "\n",
       "            <div>\n",
       "                <p><b>SparkSession - in-memory</b></p>\n",
       "                \n",
       "        <div>\n",
       "            <p><b>SparkContext</b></p>\n",
       "\n",
       "            <p><a href=\"http://Anurag:4040\">Spark UI</a></p>\n",
       "\n",
       "            <dl>\n",
       "              <dt>Version</dt>\n",
       "                <dd><code>v3.4.1</code></dd>\n",
       "              <dt>Master</dt>\n",
       "                <dd><code>local[*]</code></dd>\n",
       "              <dt>AppName</dt>\n",
       "                <dd><code>Project</code></dd>\n",
       "            </dl>\n",
       "        </div>\n",
       "        \n",
       "            </div>\n",
       "        "
      ],
      "text/plain": [
       "<pyspark.sql.session.SparkSession at 0x187f92c0070>"
      ]
     },
     "execution_count": 4,
     "metadata": {},
     "output_type": "execute_result"
    }
   ],
   "source": [
    "spark"
   ]
  },
  {
   "cell_type": "code",
   "execution_count": 5,
   "metadata": {
    "id": "62-wY6bnlRRj"
   },
   "outputs": [],
   "source": [
    "#Creating a PySpark dataframe ' df_application_record ' by reading a CSV file named 'application_record.csv' \n",
    "#The option('header', 'true') method specifies that the first row of the CSV file contains the column names.\n",
    "#The inferSchema=True option specifies that Spark should attempt to infer the data types of each column.\n",
    "df_application_record=spark.read.csv('dataset/application_record.csv', header = True , inferSchema = True)"
   ]
  },
  {
   "cell_type": "code",
   "execution_count": 6,
   "metadata": {
    "colab": {
     "base_uri": "https://localhost:8080/"
    },
    "id": "FkSALhU4mt7-",
    "outputId": "942c40b1-809f-4e35-fadb-1c41bb5d1c19"
   },
   "outputs": [
    {
     "name": "stdout",
     "output_type": "stream",
     "text": [
      "root\n",
      " |-- ID: integer (nullable = true)\n",
      " |-- CODE_GENDER: string (nullable = true)\n",
      " |-- FLAG_OWN_CAR: string (nullable = true)\n",
      " |-- FLAG_OWN_REALTY: string (nullable = true)\n",
      " |-- CNT_CHILDREN: integer (nullable = true)\n",
      " |-- AMT_INCOME_TOTAL: double (nullable = true)\n",
      " |-- NAME_INCOME_TYPE: string (nullable = true)\n",
      " |-- NAME_EDUCATION_TYPE: string (nullable = true)\n",
      " |-- NAME_FAMILY_STATUS: string (nullable = true)\n",
      " |-- NAME_HOUSING_TYPE: string (nullable = true)\n",
      " |-- DAYS_BIRTH: integer (nullable = true)\n",
      " |-- DAYS_EMPLOYED: integer (nullable = true)\n",
      " |-- FLAG_MOBIL: integer (nullable = true)\n",
      " |-- FLAG_WORK_PHONE: integer (nullable = true)\n",
      " |-- FLAG_PHONE: integer (nullable = true)\n",
      " |-- FLAG_EMAIL: integer (nullable = true)\n",
      " |-- OCCUPATION_TYPE: string (nullable = true)\n",
      " |-- CNT_FAM_MEMBERS: double (nullable = true)\n",
      "\n"
     ]
    }
   ],
   "source": [
    "# Printing the schema of dataframe df_application_record.\n",
    "df_application_record.printSchema()"
   ]
  },
  {
   "cell_type": "code",
   "execution_count": 7,
   "metadata": {
    "colab": {
     "base_uri": "https://localhost:8080/"
    },
    "id": "OQ1e-XQxnENr",
    "outputId": "0bae4d0e-5f5a-43ae-8b74-7de2b355bf2d"
   },
   "outputs": [
    {
     "name": "stdout",
     "output_type": "stream",
     "text": [
      "+-------+-----------+------------+---------------+------------+----------------+--------------------+--------------------+--------------------+-----------------+----------+-------------+----------+---------------+----------+----------+---------------+---------------+\n",
      "|     ID|CODE_GENDER|FLAG_OWN_CAR|FLAG_OWN_REALTY|CNT_CHILDREN|AMT_INCOME_TOTAL|    NAME_INCOME_TYPE| NAME_EDUCATION_TYPE|  NAME_FAMILY_STATUS|NAME_HOUSING_TYPE|DAYS_BIRTH|DAYS_EMPLOYED|FLAG_MOBIL|FLAG_WORK_PHONE|FLAG_PHONE|FLAG_EMAIL|OCCUPATION_TYPE|CNT_FAM_MEMBERS|\n",
      "+-------+-----------+------------+---------------+------------+----------------+--------------------+--------------------+--------------------+-----------------+----------+-------------+----------+---------------+----------+----------+---------------+---------------+\n",
      "|5008804|          M|           Y|              Y|           0|        427500.0|             Working|    Higher education|      Civil marriage| Rented apartment|    -12005|        -4542|         1|              1|         0|         0|           null|            2.0|\n",
      "|5008805|          M|           Y|              Y|           0|        427500.0|             Working|    Higher education|      Civil marriage| Rented apartment|    -12005|        -4542|         1|              1|         0|         0|           null|            2.0|\n",
      "|5008806|          M|           Y|              Y|           0|        112500.0|             Working|Secondary / secon...|             Married|House / apartment|    -21474|        -1134|         1|              0|         0|         0| Security staff|            2.0|\n",
      "|5008808|          F|           N|              Y|           0|        270000.0|Commercial associate|Secondary / secon...|Single / not married|House / apartment|    -19110|        -3051|         1|              0|         1|         1|    Sales staff|            1.0|\n",
      "|5008809|          F|           N|              Y|           0|        270000.0|Commercial associate|Secondary / secon...|Single / not married|House / apartment|    -19110|        -3051|         1|              0|         1|         1|    Sales staff|            1.0|\n",
      "|5008810|          F|           N|              Y|           0|        270000.0|Commercial associate|Secondary / secon...|Single / not married|House / apartment|    -19110|        -3051|         1|              0|         1|         1|    Sales staff|            1.0|\n",
      "|5008811|          F|           N|              Y|           0|        270000.0|Commercial associate|Secondary / secon...|Single / not married|House / apartment|    -19110|        -3051|         1|              0|         1|         1|    Sales staff|            1.0|\n",
      "|5008812|          F|           N|              Y|           0|        283500.0|           Pensioner|    Higher education|           Separated|House / apartment|    -22464|       365243|         1|              0|         0|         0|           null|            1.0|\n",
      "|5008813|          F|           N|              Y|           0|        283500.0|           Pensioner|    Higher education|           Separated|House / apartment|    -22464|       365243|         1|              0|         0|         0|           null|            1.0|\n",
      "|5008814|          F|           N|              Y|           0|        283500.0|           Pensioner|    Higher education|           Separated|House / apartment|    -22464|       365243|         1|              0|         0|         0|           null|            1.0|\n",
      "|5008815|          M|           Y|              Y|           0|        270000.0|             Working|    Higher education|             Married|House / apartment|    -16872|         -769|         1|              1|         1|         1|    Accountants|            2.0|\n",
      "|5112956|          M|           Y|              Y|           0|        270000.0|             Working|    Higher education|             Married|House / apartment|    -16872|         -769|         1|              1|         1|         1|    Accountants|            2.0|\n",
      "|6153651|          M|           Y|              Y|           0|        270000.0|             Working|    Higher education|             Married|House / apartment|    -16872|         -769|         1|              1|         1|         1|    Accountants|            2.0|\n",
      "|5008819|          M|           Y|              Y|           0|        135000.0|Commercial associate|Secondary / secon...|             Married|House / apartment|    -17778|        -1194|         1|              0|         0|         0|       Laborers|            2.0|\n",
      "|5008820|          M|           Y|              Y|           0|        135000.0|Commercial associate|Secondary / secon...|             Married|House / apartment|    -17778|        -1194|         1|              0|         0|         0|       Laborers|            2.0|\n",
      "|5008821|          M|           Y|              Y|           0|        135000.0|Commercial associate|Secondary / secon...|             Married|House / apartment|    -17778|        -1194|         1|              0|         0|         0|       Laborers|            2.0|\n",
      "|5008822|          M|           Y|              Y|           0|        135000.0|Commercial associate|Secondary / secon...|             Married|House / apartment|    -17778|        -1194|         1|              0|         0|         0|       Laborers|            2.0|\n",
      "|5008823|          M|           Y|              Y|           0|        135000.0|Commercial associate|Secondary / secon...|             Married|House / apartment|    -17778|        -1194|         1|              0|         0|         0|       Laborers|            2.0|\n",
      "|5008824|          M|           Y|              Y|           0|        135000.0|Commercial associate|Secondary / secon...|             Married|House / apartment|    -17778|        -1194|         1|              0|         0|         0|       Laborers|            2.0|\n",
      "|5008825|          F|           Y|              N|           0|        130500.0|             Working|   Incomplete higher|             Married|House / apartment|    -10669|        -1103|         1|              0|         0|         0|    Accountants|            2.0|\n",
      "+-------+-----------+------------+---------------+------------+----------------+--------------------+--------------------+--------------------+-----------------+----------+-------------+----------+---------------+----------+----------+---------------+---------------+\n",
      "only showing top 20 rows\n",
      "\n"
     ]
    }
   ],
   "source": [
    "# Displaying the df_application_record dataframe \n",
    "df_application_record.show()"
   ]
  },
  {
   "cell_type": "code",
   "execution_count": 8,
   "metadata": {
    "colab": {
     "base_uri": "https://localhost:8080/"
    },
    "id": "DIY1pudQnqFB",
    "outputId": "1680f89a-9d4c-46eb-ad20-b7f8bd0e1bc8"
   },
   "outputs": [
    {
     "name": "stdout",
     "output_type": "stream",
     "text": [
      "No. of Rows in application_record data frame: 438557\n",
      "No. of Columns in application_record data frame: 18\n"
     ]
    }
   ],
   "source": [
    "# Displayimg the number of rows and column in df_application_record dataframe\n",
    "num_rows1 = df_application_record.count()\n",
    "num_cols1 = len(df_application_record.columns)\n",
    "print(\"No. of Rows in application_record data frame:\" ,num_rows1 )\n",
    "print(\"No. of Columns in application_record data frame:\" , num_cols1)"
   ]
  },
  {
   "cell_type": "code",
   "execution_count": 10,
   "metadata": {
    "id": "UJHtdGIhpPJT"
   },
   "outputs": [],
   "source": [
    "#Creating a PySpark dataframe ' df_credit_record ' by reading a CSV file named 'credit_record.csv' \n",
    "#The option('header', 'true') method specifies that the first row of the CSV file contains the column names.\n",
    "#The inferSchema=True option specifies that Spark should attempt to infer the data types of each column.\n",
    "df_credit_record = spark.read.csv('dataset/credit_record.csv', header = True , inferSchema=True)"
   ]
  },
  {
   "cell_type": "code",
   "execution_count": 11,
   "metadata": {
    "colab": {
     "base_uri": "https://localhost:8080/"
    },
    "id": "sCPIhj9Sp7aO",
    "outputId": "f181c0e7-0145-40b9-a16f-a1c47be941e0"
   },
   "outputs": [
    {
     "name": "stdout",
     "output_type": "stream",
     "text": [
      "root\n",
      " |-- ID: integer (nullable = true)\n",
      " |-- MONTHS_BALANCE: integer (nullable = true)\n",
      " |-- STATUS: string (nullable = true)\n",
      "\n"
     ]
    }
   ],
   "source": [
    "# Printing the schema of dataframe df_credit_record.\n",
    "df_credit_record.printSchema()"
   ]
  },
  {
   "cell_type": "code",
   "execution_count": 12,
   "metadata": {
    "colab": {
     "base_uri": "https://localhost:8080/"
    },
    "id": "B0juLxDmql6E",
    "outputId": "18b7bb57-d207-41a8-e416-6ef20cd2ba7f"
   },
   "outputs": [
    {
     "name": "stdout",
     "output_type": "stream",
     "text": [
      "+-------+--------------+------+\n",
      "|     ID|MONTHS_BALANCE|STATUS|\n",
      "+-------+--------------+------+\n",
      "|5001711|             0|     X|\n",
      "|5001711|            -1|     0|\n",
      "|5001711|            -2|     0|\n",
      "|5001711|            -3|     0|\n",
      "|5001712|             0|     C|\n",
      "|5001712|            -1|     C|\n",
      "|5001712|            -2|     C|\n",
      "|5001712|            -3|     C|\n",
      "|5001712|            -4|     C|\n",
      "|5001712|            -5|     C|\n",
      "|5001712|            -6|     C|\n",
      "|5001712|            -7|     C|\n",
      "|5001712|            -8|     C|\n",
      "|5001712|            -9|     0|\n",
      "|5001712|           -10|     0|\n",
      "|5001712|           -11|     0|\n",
      "|5001712|           -12|     0|\n",
      "|5001712|           -13|     0|\n",
      "|5001712|           -14|     0|\n",
      "|5001712|           -15|     0|\n",
      "+-------+--------------+------+\n",
      "only showing top 20 rows\n",
      "\n"
     ]
    }
   ],
   "source": [
    "# Displaying the df_credit_record dataframe \n",
    "df_credit_record.show()"
   ]
  },
  {
   "cell_type": "code",
   "execution_count": 13,
   "metadata": {
    "colab": {
     "base_uri": "https://localhost:8080/"
    },
    "id": "fnO0Fxmmqu7X",
    "outputId": "9dbbd18f-8d6c-489d-ff59-43739dce7d1c"
   },
   "outputs": [
    {
     "name": "stdout",
     "output_type": "stream",
     "text": [
      "No. of Rows in credit_record data frame:  1048575\n",
      "No. of Columns in credit_record data frame:  3\n"
     ]
    }
   ],
   "source": [
    "# Displayimg the number of rows and column in df_credit_record dataframe\n",
    "num_rows2 = df_credit_record.count()\n",
    "num_cols2 = len(df_credit_record.columns)\n",
    "print(\"No. of Rows in credit_record data frame: \" ,num_rows2)\n",
    "print(\"No. of Columns in credit_record data frame: \" ,num_cols2)"
   ]
  },
  {
   "cell_type": "code",
   "execution_count": 14,
   "metadata": {
    "id": "ChntCbfVrNmL"
   },
   "outputs": [],
   "source": [
    "# Mergeing both application_record and credit record on ID and creating new dataframe df_final\n",
    "df_final= df_application_record.join(df_credit_record, on=\"ID\")"
   ]
  },
  {
   "cell_type": "code",
   "execution_count": 15,
   "metadata": {
    "colab": {
     "base_uri": "https://localhost:8080/"
    },
    "id": "smF33aovr-tn",
    "outputId": "b6b90694-d083-4b5c-d2b4-278e9cb3ac7e"
   },
   "outputs": [
    {
     "name": "stdout",
     "output_type": "stream",
     "text": [
      "No. of Rows in final data frame: 777715\n",
      "No. of Columns in final data frame: 20\n"
     ]
    }
   ],
   "source": [
    "# Displayimg the number of rows and column in df_final dataframe\n",
    "num_rows3 = df_final.count()\n",
    "num_cols3 = len(df_final.columns)\n",
    "print(\"No. of Rows in final data frame:\" ,num_rows3)\n",
    "print(\"No. of Columns in final data frame:\",num_cols3)"
   ]
  },
  {
   "cell_type": "code",
   "execution_count": 16,
   "metadata": {
    "colab": {
     "base_uri": "https://localhost:8080/"
    },
    "id": "SC0QiTcvtNEO",
    "outputId": "ab50f15e-ef0d-40d6-8eb1-c5d12dcb17a9"
   },
   "outputs": [
    {
     "name": "stdout",
     "output_type": "stream",
     "text": [
      "+---+-----------+------------+---------------+------------+----------------+----------------+-------------------+------------------+-----------------+----------+-------------+----------+---------------+----------+----------+---------------+---------------+--------------+------+\n",
      "| ID|CODE_GENDER|FLAG_OWN_CAR|FLAG_OWN_REALTY|CNT_CHILDREN|AMT_INCOME_TOTAL|NAME_INCOME_TYPE|NAME_EDUCATION_TYPE|NAME_FAMILY_STATUS|NAME_HOUSING_TYPE|DAYS_BIRTH|DAYS_EMPLOYED|FLAG_MOBIL|FLAG_WORK_PHONE|FLAG_PHONE|FLAG_EMAIL|OCCUPATION_TYPE|CNT_FAM_MEMBERS|MONTHS_BALANCE|STATUS|\n",
      "+---+-----------+------------+---------------+------------+----------------+----------------+-------------------+------------------+-----------------+----------+-------------+----------+---------------+----------+----------+---------------+---------------+--------------+------+\n",
      "|  0|          0|           0|              0|           0|               0|               0|                  0|                 0|                0|         0|            0|         0|              0|         0|         0|         240048|              0|             0|     0|\n",
      "+---+-----------+------------+---------------+------------+----------------+----------------+-------------------+------------------+-----------------+----------+-------------+----------+---------------+----------+----------+---------------+---------------+--------------+------+\n",
      "\n"
     ]
    }
   ],
   "source": [
    "# Checking Null values\n",
    "from pyspark.sql.functions import col,sum\n",
    "null_counts = df_final.select(*(sum(col(c).isNull().cast(\"int\")).alias(c) for c in df_final.columns))\n",
    "null_counts.show()"
   ]
  },
  {
   "cell_type": "code",
   "execution_count": 17,
   "metadata": {
    "id": "1JHHGLvVuI08"
   },
   "outputs": [],
   "source": [
    "# Removing Null values\n",
    "df_final = df_final.dropna()"
   ]
  },
  {
   "cell_type": "code",
   "execution_count": 18,
   "metadata": {
    "colab": {
     "base_uri": "https://localhost:8080/"
    },
    "id": "TsOcBDqTvXaq",
    "outputId": "32752648-c088-49ae-d275-fb4a7dae452c"
   },
   "outputs": [
    {
     "name": "stdout",
     "output_type": "stream",
     "text": [
      "+---+-----------+------------+---------------+------------+----------------+----------------+-------------------+------------------+-----------------+----------+-------------+----------+---------------+----------+----------+---------------+---------------+--------------+------+\n",
      "| ID|CODE_GENDER|FLAG_OWN_CAR|FLAG_OWN_REALTY|CNT_CHILDREN|AMT_INCOME_TOTAL|NAME_INCOME_TYPE|NAME_EDUCATION_TYPE|NAME_FAMILY_STATUS|NAME_HOUSING_TYPE|DAYS_BIRTH|DAYS_EMPLOYED|FLAG_MOBIL|FLAG_WORK_PHONE|FLAG_PHONE|FLAG_EMAIL|OCCUPATION_TYPE|CNT_FAM_MEMBERS|MONTHS_BALANCE|STATUS|\n",
      "+---+-----------+------------+---------------+------------+----------------+----------------+-------------------+------------------+-----------------+----------+-------------+----------+---------------+----------+----------+---------------+---------------+--------------+------+\n",
      "|  0|          0|           0|              0|           0|               0|               0|                  0|                 0|                0|         0|            0|         0|              0|         0|         0|              0|              0|             0|     0|\n",
      "+---+-----------+------------+---------------+------------+----------------+----------------+-------------------+------------------+-----------------+----------+-------------+----------+---------------+----------+----------+---------------+---------------+--------------+------+\n",
      "\n"
     ]
    }
   ],
   "source": [
    "# Checking Null values again\n",
    "null_counts2 = df_final.select(*(sum(col(c).isNull().cast(\"int\")).alias(c) for c in df_final.columns))\n",
    "null_counts2.show()"
   ]
  },
  {
   "cell_type": "code",
   "execution_count": 19,
   "metadata": {
    "colab": {
     "base_uri": "https://localhost:8080/"
    },
    "id": "H3viays4vpvp",
    "outputId": "c80158d8-b26a-4154-e940-89f8145e6fc0"
   },
   "outputs": [
    {
     "name": "stdout",
     "output_type": "stream",
     "text": [
      "No. of Rows in final data frame after droping null value:  537667\n",
      "No. of Columns in final data frame after droping null value:  20\n"
     ]
    }
   ],
   "source": [
    "# Displayimg the number of rows and column in df_final dataframe after removing Null values\n",
    "num_rows4 = df_final.count()\n",
    "num_cols4 = len(df_final.columns)\n",
    "print(\"No. of Rows in final data frame after droping null value: \",num_rows4)\n",
    "print(\"No. of Columns in final data frame after droping null value: \" ,num_cols4)"
   ]
  },
  {
   "cell_type": "code",
   "execution_count": 20,
   "metadata": {
    "colab": {
     "base_uri": "https://localhost:8080/"
    },
    "id": "iYjOx_3jqvgT",
    "outputId": "7f1ffd70-227a-43ff-afba-920ded9ea56a"
   },
   "outputs": [
    {
     "name": "stdout",
     "output_type": "stream",
     "text": [
      "+------+------+\n",
      "|STATUS| count|\n",
      "+------+------+\n",
      "|     3|   181|\n",
      "|     0|200930|\n",
      "|     5|  1087|\n",
      "|     C|226185|\n",
      "|     X|102167|\n",
      "|     1|  6423|\n",
      "|     4|   152|\n",
      "|     2|   542|\n",
      "+------+------+\n",
      "\n"
     ]
    }
   ],
   "source": [
    "# Transforming Status column values\n",
    "# 0: 1-29 days past due \n",
    "# 1: 30-59 days past due\n",
    "# 2: 60-89 days overdue \n",
    "# 3: 90-119 days overdue\n",
    "# 4: 120-149 days overdue \n",
    "# 5: Overdue or bad debts, write-offs for more than 150 days \n",
    "# C: paid off that month \n",
    "# X: No loan for the month\n",
    "df_final.groupBy(\"STATUS\").count().show()"
   ]
  },
  {
   "cell_type": "code",
   "execution_count": 21,
   "metadata": {
    "colab": {
     "base_uri": "https://localhost:8080/"
    },
    "id": "v1MVHDFy5UmK",
    "outputId": "82896b26-8eab-4070-e5f0-b5a83bce1544"
   },
   "outputs": [
    {
     "name": "stdout",
     "output_type": "stream",
     "text": [
      "+------+------+\n",
      "|STATUS| count|\n",
      "+------+------+\n",
      "|     3|   181|\n",
      "|     0|200930|\n",
      "|     5|  1087|\n",
      "|     C|226185|\n",
      "|     X|102167|\n",
      "|     1|  6423|\n",
      "|     4|   152|\n",
      "|     2|   542|\n",
      "+------+------+\n",
      "\n"
     ]
    }
   ],
   "source": [
    "df_final.groupBy(\"STATUS\").count().show()"
   ]
  },
  {
   "cell_type": "code",
   "execution_count": 22,
   "metadata": {
    "id": "8VJ5xwUNL4tN"
   },
   "outputs": [],
   "source": [
    "# replacing the status values as good (1) = 'X','C','0' & bad (0)= Others.\n",
    "# replacing FLAG_OWN_CAR, FLAG_OWN_REALITY, CODE_GENDER value as 0 & 1\n",
    "from pyspark.sql.functions import when\n",
    "df_final = (df_final\n",
    "            .withColumn(\"STATUS\", when(df_final.STATUS.isin(['X','C']),1).otherwise(0))\n",
    "            .withColumn('CODE_GENDER', when(df_final['CODE_GENDER'] == 'M', 0).otherwise(1))\n",
    "            .withColumn('FLAG_OWN_CAR', when(df_final['FLAG_OWN_CAR'] == 'Y', 0).otherwise(1))\n",
    "            .withColumn('FLAG_OWN_REALTY', when(df_final['FLAG_OWN_REALTY'] == 'Y', 0).otherwise(1))\n",
    "           )"
   ]
  },
  {
   "cell_type": "code",
   "execution_count": 23,
   "metadata": {
    "colab": {
     "base_uri": "https://localhost:8080/"
    },
    "id": "HrIT6_JD5aY-",
    "outputId": "ae257cc3-3017-42f8-8739-cbd1f54784f9"
   },
   "outputs": [
    {
     "name": "stdout",
     "output_type": "stream",
     "text": [
      "+------+------+\n",
      "|STATUS| count|\n",
      "+------+------+\n",
      "|     1|328352|\n",
      "|     0|209315|\n",
      "+------+------+\n",
      "\n"
     ]
    }
   ],
   "source": [
    "df_final.groupBy(\"STATUS\").count().show()"
   ]
  },
  {
   "cell_type": "code",
   "execution_count": 24,
   "metadata": {
    "colab": {
     "base_uri": "https://localhost:8080/"
    },
    "id": "LHqhQCjw2BFE",
    "outputId": "2a505d0c-472a-4e98-ac53-727a643dee70"
   },
   "outputs": [
    {
     "name": "stdout",
     "output_type": "stream",
     "text": [
      "+-------+-----------+------------+---------------+------------+----------------+----------------+--------------------+------------------+-----------------+----------+-------------+----------+---------------+----------+----------+---------------+---------------+--------------+------+\n",
      "|     ID|CODE_GENDER|FLAG_OWN_CAR|FLAG_OWN_REALTY|CNT_CHILDREN|AMT_INCOME_TOTAL|NAME_INCOME_TYPE| NAME_EDUCATION_TYPE|NAME_FAMILY_STATUS|NAME_HOUSING_TYPE|DAYS_BIRTH|DAYS_EMPLOYED|FLAG_MOBIL|FLAG_WORK_PHONE|FLAG_PHONE|FLAG_EMAIL|OCCUPATION_TYPE|CNT_FAM_MEMBERS|MONTHS_BALANCE|STATUS|\n",
      "+-------+-----------+------------+---------------+------------+----------------+----------------+--------------------+------------------+-----------------+----------+-------------+----------+---------------+----------+----------+---------------+---------------+--------------+------+\n",
      "|5008806|          0|           0|              0|           0|        112500.0|         Working|Secondary / secon...|           Married|House / apartment|    -21474|        -1134|         1|              0|         0|         0| Security staff|            2.0|             0|     1|\n",
      "|5008806|          0|           0|              0|           0|        112500.0|         Working|Secondary / secon...|           Married|House / apartment|    -21474|        -1134|         1|              0|         0|         0| Security staff|            2.0|            -1|     1|\n",
      "|5008806|          0|           0|              0|           0|        112500.0|         Working|Secondary / secon...|           Married|House / apartment|    -21474|        -1134|         1|              0|         0|         0| Security staff|            2.0|            -2|     1|\n",
      "|5008806|          0|           0|              0|           0|        112500.0|         Working|Secondary / secon...|           Married|House / apartment|    -21474|        -1134|         1|              0|         0|         0| Security staff|            2.0|            -3|     1|\n",
      "|5008806|          0|           0|              0|           0|        112500.0|         Working|Secondary / secon...|           Married|House / apartment|    -21474|        -1134|         1|              0|         0|         0| Security staff|            2.0|            -4|     1|\n",
      "|5008806|          0|           0|              0|           0|        112500.0|         Working|Secondary / secon...|           Married|House / apartment|    -21474|        -1134|         1|              0|         0|         0| Security staff|            2.0|            -5|     1|\n",
      "|5008806|          0|           0|              0|           0|        112500.0|         Working|Secondary / secon...|           Married|House / apartment|    -21474|        -1134|         1|              0|         0|         0| Security staff|            2.0|            -6|     1|\n",
      "|5008806|          0|           0|              0|           0|        112500.0|         Working|Secondary / secon...|           Married|House / apartment|    -21474|        -1134|         1|              0|         0|         0| Security staff|            2.0|            -7|     1|\n",
      "|5008806|          0|           0|              0|           0|        112500.0|         Working|Secondary / secon...|           Married|House / apartment|    -21474|        -1134|         1|              0|         0|         0| Security staff|            2.0|            -8|     0|\n",
      "|5008806|          0|           0|              0|           0|        112500.0|         Working|Secondary / secon...|           Married|House / apartment|    -21474|        -1134|         1|              0|         0|         0| Security staff|            2.0|            -9|     0|\n",
      "+-------+-----------+------------+---------------+------------+----------------+----------------+--------------------+------------------+-----------------+----------+-------------+----------+---------------+----------+----------+---------------+---------------+--------------+------+\n",
      "only showing top 10 rows\n",
      "\n"
     ]
    }
   ],
   "source": [
    "#checking result on first 10 rows of dataframe\n",
    "df_final.show(10)"
   ]
  },
  {
   "cell_type": "code",
   "execution_count": 25,
   "metadata": {
    "colab": {
     "base_uri": "https://localhost:8080/"
    },
    "id": "fJhvyC631Mfl",
    "outputId": "906a747c-bec0-4da4-8ecb-9648838d7256"
   },
   "outputs": [
    {
     "name": "stdout",
     "output_type": "stream",
     "text": [
      "+-------+-----------+------------+---------------+------------+----------------+--------------------+--------------------+--------------------+-------------------+----------+-------------+----------+---------------+----------+----------+---------------+---------------+--------------+------+\n",
      "|     ID|CODE_GENDER|FLAG_OWN_CAR|FLAG_OWN_REALTY|CNT_CHILDREN|AMT_INCOME_TOTAL|    NAME_INCOME_TYPE| NAME_EDUCATION_TYPE|  NAME_FAMILY_STATUS|  NAME_HOUSING_TYPE|DAYS_BIRTH|DAYS_EMPLOYED|FLAG_MOBIL|FLAG_WORK_PHONE|FLAG_PHONE|FLAG_EMAIL|OCCUPATION_TYPE|CNT_FAM_MEMBERS|MONTHS_BALANCE|STATUS|\n",
      "+-------+-----------+------------+---------------+------------+----------------+--------------------+--------------------+--------------------+-------------------+----------+-------------+----------+---------------+----------+----------+---------------+---------------+--------------+------+\n",
      "|5008930|          1|           1|              0|           0|        297000.0|Commercial associate|Secondary / secon...|Single / not married|   Rented apartment|    -15519|        -3234|         1|              0|         0|         0|       Laborers|            1.0|            -5|     0|\n",
      "|5008963|          1|           0|              0|           0|        135000.0|             Working|Secondary / secon...|             Married|  House / apartment|    -17785|        -1712|         1|              0|         0|         0|       Laborers|            2.0|           -26|     1|\n",
      "|5009000|          0|           0|              0|           0|        157500.0|             Working|Secondary / secon...|             Married|  House / apartment|     -9927|         -828|         1|              0|         0|         0|        Drivers|            2.0|           -22|     0|\n",
      "|5009042|          1|           1|              0|           0|        148500.0|             Working|    Higher education|             Married|  House / apartment|    -17641|         -889|         1|              0|         0|         0|     Core staff|            2.0|             0|     1|\n",
      "|5009051|          1|           1|              0|           2|        202500.0|             Working|    Higher education|             Married|  House / apartment|    -10997|        -2289|         1|              0|         0|         1|     Core staff|            4.0|           -37|     0|\n",
      "|5009051|          1|           1|              0|           2|        202500.0|             Working|    Higher education|             Married|  House / apartment|    -10997|        -2289|         1|              0|         0|         1|     Core staff|            4.0|           -39|     0|\n",
      "|5009103|          0|           0|              0|           2|        157500.0|             Working|Secondary / secon...|             Married|       With parents|    -12859|        -4056|         1|              0|         1|         0|        Drivers|            4.0|             0|     1|\n",
      "|5009191|          1|           1|              1|           0|        270000.0|             Working|    Higher education|             Married|  House / apartment|    -17573|        -5792|         1|              1|         1|         0|       Managers|            2.0|           -20|     0|\n",
      "|5009204|          1|           1|              1|           0|        292500.0|       State servant|Secondary / secon...|             Married|  House / apartment|    -20953|        -8684|         1|              1|         1|         0|    Accountants|            2.0|             0|     0|\n",
      "|5009272|          0|           1|              1|           0|        180000.0|Commercial associate|Secondary / secon...|             Married|Municipal apartment|    -14781|        -2443|         1|              0|         1|         0|       Laborers|            2.0|            -7|     1|\n",
      "+-------+-----------+------------+---------------+------------+----------------+--------------------+--------------------+--------------------+-------------------+----------+-------------+----------+---------------+----------+----------+---------------+---------------+--------------+------+\n",
      "only showing top 10 rows\n",
      "\n"
     ]
    }
   ],
   "source": [
    "# taking a random sample of 1% of the rows in df_final and then the first 10 rows of that sample will be displayed using the show() method.\n",
    "df_final.sample(fraction=0.01).show(10)"
   ]
  },
  {
   "cell_type": "code",
   "execution_count": 26,
   "metadata": {
    "colab": {
     "base_uri": "https://localhost:8080/"
    },
    "id": "_2O1FJ1lMYI5",
    "outputId": "b172dd4f-1ff1-49f0-d46d-2f4840889ad8"
   },
   "outputs": [
    {
     "name": "stdout",
     "output_type": "stream",
     "text": [
      "+--------------------+------+\n",
      "|    NAME_INCOME_TYPE| count|\n",
      "+--------------------+------+\n",
      "|             Student|   322|\n",
      "|Commercial associate|151412|\n",
      "|       State servant| 52733|\n",
      "|             Working|332868|\n",
      "|           Pensioner|   332|\n",
      "+--------------------+------+\n",
      "\n"
     ]
    }
   ],
   "source": [
    "#counting the unique values of column NAME_INCOME_TYPE\n",
    "from pyspark.sql.functions import count\n",
    "df_final.groupBy('NAME_INCOME_TYPE').agg(count('*').alias('count')).show()"
   ]
  },
  {
   "cell_type": "code",
   "execution_count": 27,
   "metadata": {
    "id": "6IqzBHCKLxmB"
   },
   "outputs": [],
   "source": [
    "# Merging the columns Student and Pensioner into new column - Others\n",
    "df_final = df_final.withColumn('NAME_INCOME_TYPE', when(col('NAME_INCOME_TYPE').isin(['Working', 'Commercial associate', 'State servant']), col('NAME_INCOME_TYPE')).otherwise('others'))"
   ]
  },
  {
   "cell_type": "code",
   "execution_count": 28,
   "metadata": {
    "colab": {
     "base_uri": "https://localhost:8080/"
    },
    "id": "YnNNViGo1tBv",
    "outputId": "3b9f7d67-1ee9-43ea-a739-0e9d321bb907"
   },
   "outputs": [
    {
     "name": "stdout",
     "output_type": "stream",
     "text": [
      "+--------------------+------+\n",
      "|    NAME_INCOME_TYPE| count|\n",
      "+--------------------+------+\n",
      "|Commercial associate|151412|\n",
      "|              others|   654|\n",
      "|       State servant| 52733|\n",
      "|             Working|332868|\n",
      "+--------------------+------+\n",
      "\n"
     ]
    }
   ],
   "source": [
    "df_final.groupBy('NAME_INCOME_TYPE').agg(count('*').alias('count')).show()"
   ]
  },
  {
   "cell_type": "code",
   "execution_count": 29,
   "metadata": {
    "colab": {
     "base_uri": "https://localhost:8080/"
    },
    "id": "zgRP-t27NkIa",
    "outputId": "1ba5454e-d1e2-41ad-847c-2220106861ca"
   },
   "outputs": [
    {
     "name": "stdout",
     "output_type": "stream",
     "text": [
      "+--------------------+------+\n",
      "| NAME_EDUCATION_TYPE| count|\n",
      "+--------------------+------+\n",
      "|   Incomplete higher| 20590|\n",
      "|Secondary / secon...|358317|\n",
      "|     Lower secondary|  4556|\n",
      "|    Higher education|153770|\n",
      "|     Academic degree|   434|\n",
      "+--------------------+------+\n",
      "\n"
     ]
    }
   ],
   "source": [
    "#counting the unique values of column NAME_EDUCATION_TYPE\n",
    "df_final.groupBy('NAME_EDUCATION_TYPE').agg(count('*').alias('count')).show()"
   ]
  },
  {
   "cell_type": "code",
   "execution_count": 30,
   "metadata": {
    "id": "-MrzOB0nN3lW"
   },
   "outputs": [],
   "source": [
    "from pyspark.sql.functions import split\n",
    "df_final = df_final.withColumn('NAME_EDUCATION_TYPE', split(col('NAME_EDUCATION_TYPE'), '/').getItem(0))"
   ]
  },
  {
   "cell_type": "code",
   "execution_count": 31,
   "metadata": {
    "colab": {
     "base_uri": "https://localhost:8080/"
    },
    "id": "4T873RlVOJ2T",
    "outputId": "1afa6a5d-a370-4c8a-914b-8103596fa290"
   },
   "outputs": [
    {
     "name": "stdout",
     "output_type": "stream",
     "text": [
      "+-------------------+------+\n",
      "|NAME_EDUCATION_TYPE| count|\n",
      "+-------------------+------+\n",
      "|  Incomplete higher| 20590|\n",
      "|    Lower secondary|  4556|\n",
      "|         Secondary |358317|\n",
      "|   Higher education|153770|\n",
      "|    Academic degree|   434|\n",
      "+-------------------+------+\n",
      "\n"
     ]
    }
   ],
   "source": [
    "df_final.groupBy('NAME_EDUCATION_TYPE').agg(count('*').alias('count')).show()"
   ]
  },
  {
   "cell_type": "code",
   "execution_count": 32,
   "metadata": {
    "colab": {
     "base_uri": "https://localhost:8080/"
    },
    "id": "aQWFFeq1OS_H",
    "outputId": "4af2c9e4-c6f1-4d32-be55-0be3e0c27b82"
   },
   "outputs": [
    {
     "name": "stdout",
     "output_type": "stream",
     "text": [
      "+--------------------+------+\n",
      "|  NAME_FAMILY_STATUS| count|\n",
      "+--------------------+------+\n",
      "|           Separated| 31394|\n",
      "|             Married|384003|\n",
      "|Single / not married| 65944|\n",
      "|               Widow| 12243|\n",
      "|      Civil marriage| 44083|\n",
      "+--------------------+------+\n",
      "\n"
     ]
    }
   ],
   "source": [
    "#counting the unique values of column NAME_FAMILY_STATUS\n",
    "df_final.groupBy('NAME_FAMILY_STATUS').agg(count('*').alias('count')).show()\n",
    "#df_final.groupBy(\"NAME_FAMILY_STATUS\").count().show()"
   ]
  },
  {
   "cell_type": "code",
   "execution_count": 33,
   "metadata": {
    "id": "gkMY6PACOi1x"
   },
   "outputs": [],
   "source": [
    "df_final = df_final.withColumn(\"NAME_FAMILY_STATUS\", split(col(\"NAME_FAMILY_STATUS\"), \"/\").getItem(0))"
   ]
  },
  {
   "cell_type": "code",
   "execution_count": 34,
   "metadata": {
    "colab": {
     "base_uri": "https://localhost:8080/"
    },
    "id": "BZ-kVh2ZOqQa",
    "outputId": "22fc8a86-5783-4cb5-afe6-95bb3f4ac940"
   },
   "outputs": [
    {
     "name": "stdout",
     "output_type": "stream",
     "text": [
      "+------------------+------+\n",
      "|NAME_FAMILY_STATUS| count|\n",
      "+------------------+------+\n",
      "|           Single | 65944|\n",
      "|         Separated| 31394|\n",
      "|           Married|384003|\n",
      "|             Widow| 12243|\n",
      "|    Civil marriage| 44083|\n",
      "+------------------+------+\n",
      "\n"
     ]
    }
   ],
   "source": [
    "df_final.groupBy(\"NAME_FAMILY_STATUS\").count().show()"
   ]
  },
  {
   "cell_type": "code",
   "execution_count": 35,
   "metadata": {
    "colab": {
     "base_uri": "https://localhost:8080/"
    },
    "id": "o65WlPy1Pgi-",
    "outputId": "6eeb50f8-6df1-4726-8f18-87961729be5e"
   },
   "outputs": [
    {
     "name": "stdout",
     "output_type": "stream",
     "text": [
      "+-------------------+------+\n",
      "|  NAME_HOUSING_TYPE| count|\n",
      "+-------------------+------+\n",
      "|  House / apartment|474177|\n",
      "|Municipal apartment| 18023|\n",
      "|    Co-op apartment|  3396|\n",
      "|   Rented apartment|  8561|\n",
      "|   Office apartment|  4159|\n",
      "|       With parents| 29351|\n",
      "+-------------------+------+\n",
      "\n"
     ]
    }
   ],
   "source": [
    "#counting the unique values of column NAME_HOUSING_TYPE\n",
    "df_final.groupBy(\"NAME_HOUSING_TYPE\").count().show()"
   ]
  },
  {
   "cell_type": "code",
   "execution_count": 36,
   "metadata": {
    "id": "JgLp31YQQHwd"
   },
   "outputs": [],
   "source": [
    "df_final = df_final.withColumn(\"NAME_HOUSING_TYPE\", split(col(\"NAME_HOUSING_TYPE\"), \"/\").getItem(0))"
   ]
  },
  {
   "cell_type": "code",
   "execution_count": 37,
   "metadata": {
    "colab": {
     "base_uri": "https://localhost:8080/"
    },
    "id": "pEZdgyNIQNVK",
    "outputId": "486a9548-e3f5-4acd-a209-dec9559070ea"
   },
   "outputs": [
    {
     "name": "stdout",
     "output_type": "stream",
     "text": [
      "+-------------------+------+\n",
      "|  NAME_HOUSING_TYPE| count|\n",
      "+-------------------+------+\n",
      "|             House |474177|\n",
      "|Municipal apartment| 18023|\n",
      "|    Co-op apartment|  3396|\n",
      "|   Rented apartment|  8561|\n",
      "|   Office apartment|  4159|\n",
      "|       With parents| 29351|\n",
      "+-------------------+------+\n",
      "\n"
     ]
    }
   ],
   "source": [
    "df_final.groupBy(\"NAME_HOUSING_TYPE\").count().show()"
   ]
  },
  {
   "cell_type": "code",
   "execution_count": 38,
   "metadata": {
    "colab": {
     "base_uri": "https://localhost:8080/"
    },
    "id": "ihX8wDVjQUPN",
    "outputId": "56d81bc8-47aa-4dc3-9e7f-76e10a557b7b"
   },
   "outputs": [
    {
     "name": "stdout",
     "output_type": "stream",
     "text": [
      "+-------+-----------+------------+---------------+------------+----------------+--------------------+-------------------+------------------+-------------------+----------+-------------+----------+---------------+----------+----------+--------------------+---------------+--------------+------+\n",
      "|     ID|CODE_GENDER|FLAG_OWN_CAR|FLAG_OWN_REALTY|CNT_CHILDREN|AMT_INCOME_TOTAL|    NAME_INCOME_TYPE|NAME_EDUCATION_TYPE|NAME_FAMILY_STATUS|  NAME_HOUSING_TYPE|DAYS_BIRTH|DAYS_EMPLOYED|FLAG_MOBIL|FLAG_WORK_PHONE|FLAG_PHONE|FLAG_EMAIL|     OCCUPATION_TYPE|CNT_FAM_MEMBERS|MONTHS_BALANCE|STATUS|\n",
      "+-------+-----------+------------+---------------+------------+----------------+--------------------+-------------------+------------------+-------------------+----------+-------------+----------+---------------+----------+----------+--------------------+---------------+--------------+------+\n",
      "|5008895|          1|           1|              0|           0|        297000.0|Commercial associate|         Secondary |           Single |   Rented apartment|    -15519|        -3234|         1|              0|         0|         0|            Laborers|            1.0|           -29|     1|\n",
      "|5008910|          1|           1|              0|           0|        297000.0|Commercial associate|         Secondary |           Single |   Rented apartment|    -15519|        -3234|         1|              0|         0|         0|            Laborers|            1.0|            -5|     1|\n",
      "|5008963|          1|           0|              0|           0|        135000.0|             Working|         Secondary |           Married|             House |    -17785|        -1712|         1|              0|         0|         0|            Laborers|            2.0|           -22|     1|\n",
      "|5008963|          1|           0|              0|           0|        135000.0|             Working|         Secondary |           Married|             House |    -17785|        -1712|         1|              0|         0|         0|            Laborers|            2.0|           -23|     1|\n",
      "|5009001|          0|           1|              0|           0|        166500.0|             Working|         Secondary |           Married|             House |    -18926|        -6276|         1|              1|         1|         0|            Laborers|            2.0|           -38|     0|\n",
      "|5009051|          1|           1|              0|           2|        202500.0|             Working|   Higher education|           Married|             House |    -10997|        -2289|         1|              0|         0|         1|          Core staff|            4.0|           -27|     1|\n",
      "|5009099|          1|           1|              0|           0|        315000.0|             Working|   Higher education|         Separated|             House |    -13271|         -555|         1|              0|         0|         0|            Managers|            1.0|           -55|     1|\n",
      "|5009162|          1|           1|              1|           0|        180000.0|             Working|         Secondary |           Married|             House |    -19575|        -2901|         1|              0|         0|         0|         Sales staff|            2.0|           -12|     1|\n",
      "|5009272|          0|           1|              1|           0|        180000.0|Commercial associate|         Secondary |           Married|Municipal apartment|    -14781|        -2443|         1|              0|         1|         0|            Laborers|            2.0|            -6|     1|\n",
      "|5009285|          1|           1|              1|           0|        130500.0|             Working|         Secondary |    Civil marriage|             House |    -15140|        -4816|         1|              0|         1|         0|      Cleaning staff|            2.0|           -40|     0|\n",
      "|5009286|          1|           1|              1|           0|        130500.0|             Working|         Secondary |    Civil marriage|             House |    -15140|        -4816|         1|              0|         1|         0|      Cleaning staff|            2.0|           -46|     0|\n",
      "|5009429|          0|           1|              1|           0|        198000.0|             Working|         Secondary |           Single |       With parents|     -8657|        -1164|         1|              1|         0|         0|            Laborers|            1.0|            -2|     0|\n",
      "|5009503|          0|           0|              1|           0|        270000.0|Commercial associate|         Secondary |           Married|             House |    -11706|        -1164|         1|              1|         0|         1|             Drivers|            2.0|           -13|     1|\n",
      "|5009503|          0|           0|              1|           0|        270000.0|Commercial associate|         Secondary |           Married|             House |    -11706|        -1164|         1|              1|         0|         1|             Drivers|            2.0|           -28|     0|\n",
      "|5009515|          1|           1|              1|           0|        157500.0|             Working|  Incomplete higher|           Married|             House |    -16888|        -2687|         1|              0|         0|         0|          Core staff|            2.0|           -30|     0|\n",
      "|5009555|          1|           1|              1|           0|        198000.0|Commercial associate|         Secondary |    Civil marriage|             House |    -18813|        -9748|         1|              0|         0|         0|            Laborers|            2.0|            -1|     0|\n",
      "|5009602|          1|           0|              1|           0|        315000.0|Commercial associate|   Higher education|           Married|             House |    -13455|        -2748|         1|              1|         1|         0|         Sales staff|            2.0|           -26|     1|\n",
      "|5009810|          1|           1|              1|           1|        202500.0|             Working|         Secondary |           Married|             House |    -11813|        -3266|         1|              1|         1|         0|         Sales staff|            3.0|           -43|     0|\n",
      "|5009833|          0|           0|              1|           0|        166500.0|             Working|   Higher education|           Married|       With parents|    -10435|        -1713|         1|              1|         0|         0|          Core staff|            2.0|           -24|     1|\n",
      "|5009859|          0|           0|              1|           0|        360000.0|Commercial associate|         Secondary |         Separated|       With parents|    -10276|         -556|         1|              1|         1|         0|             Drivers|            1.0|            -2|     1|\n",
      "|5009922|          0|           0|              0|           0|        360000.0|             Working|   Higher education|           Married|             House |    -19958|        -7465|         1|              0|         0|         0|            Laborers|            2.0|            -6|     0|\n",
      "|5009938|          1|           1|              0|           2|        157500.0|             Working|         Secondary |           Married|             House |    -10710|        -2351|         1|              0|         0|         0|         Sales staff|            4.0|           -32|     0|\n",
      "|5009998|          0|           0|              0|           1|        360000.0|Commercial associate|         Secondary |           Married|             House |    -13940|         -617|         1|              0|         0|         0|            Managers|            3.0|           -19|     1|\n",
      "|5010160|          0|           0|              0|           0|        252000.0|             Working|         Secondary |           Married|             House |    -22117|        -1621|         1|              0|         1|         1|      Security staff|            2.0|           -12|     0|\n",
      "|5010161|          0|           0|              0|           0|        252000.0|             Working|         Secondary |           Married|             House |    -22117|        -1621|         1|              0|         1|         1|      Security staff|            2.0|           -27|     1|\n",
      "|5010172|          1|           1|              0|           0|        135000.0|Commercial associate|         Secondary |           Married|             House |    -21300|         -464|         1|              0|         0|         0|            Laborers|            2.0|           -25|     0|\n",
      "|5010370|          1|           0|              0|           1|        157500.0|             Working|   Higher education|         Separated|             House |     -9800|        -2109|         1|              0|         0|         1|      Medicine staff|            2.0|           -42|     1|\n",
      "|5010503|          1|           0|              0|           0|        135000.0|             Working|         Secondary |           Single |             House |    -17334|        -2504|         1|              0|         0|         0|         Sales staff|            1.0|           -48|     0|\n",
      "|5010549|          1|           0|              0|           0|        315000.0|Commercial associate|         Secondary |         Separated|             House |    -18184|        -3021|         1|              0|         1|         1|            Laborers|            1.0|            -6|     1|\n",
      "|5010677|          0|           0|              0|           0|        189000.0|             Working|         Secondary |           Married|             House |    -20815|         -829|         1|              0|         0|         1|      Security staff|            2.0|            -9|     1|\n",
      "|5010746|          0|           0|              0|           0|        157500.0|             Working|         Secondary |           Married|             House |    -22014|       -10236|         1|              1|         1|         0|          Core staff|            2.0|           -43|     0|\n",
      "|5010768|          0|           1|              0|           0|        135000.0|             Working|         Secondary |           Single |             House |    -11036|        -4301|         1|              1|         1|         0|            Laborers|            1.0|            -5|     0|\n",
      "|5011001|          1|           0|              0|           0|        157500.0|             Working|         Secondary |           Married|             House |    -10737|        -2078|         1|              0|         0|         1|         Sales staff|            2.0|           -19|     0|\n",
      "|5011001|          1|           0|              0|           0|        157500.0|             Working|         Secondary |           Married|             House |    -10737|        -2078|         1|              0|         0|         1|         Sales staff|            2.0|           -22|     0|\n",
      "|5011024|          0|           0|              0|           2|         99000.0|       State servant|         Secondary |           Married|       With parents|    -16558|        -3235|         1|              0|         0|         0|             Drivers|            4.0|            -3|     1|\n",
      "|5018421|          1|           1|              0|           0|        135000.0|Commercial associate|         Secondary |           Married|             House |    -18414|        -5203|         1|              0|         0|         0|         Sales staff|            2.0|           -10|     0|\n",
      "|5021253|          1|           1|              0|           0|        157500.0|             Working|         Secondary |           Married|             House |    -18456|        -6791|         1|              0|         0|         0|            Managers|            2.0|           -44|     1|\n",
      "|5021253|          1|           1|              0|           0|        157500.0|             Working|         Secondary |           Married|             House |    -18456|        -6791|         1|              0|         0|         0|            Managers|            2.0|           -48|     1|\n",
      "|5021423|          1|           1|              0|           0|        270000.0|             Working|         Secondary |           Married|             House |    -20066|        -3988|         1|              1|         1|         0|Private service s...|            2.0|            -2|     0|\n",
      "|5021483|          1|           1|              0|           0|        135000.0|             Working|         Secondary |           Married|             House |    -11905|        -2470|         1|              0|         1|         1|       Cooking staff|            2.0|           -27|     1|\n",
      "|5021509|          1|           1|              0|           0|        144000.0|       State servant|         Secondary |           Married|             House |    -18136|       -10110|         1|              0|         1|         0|High skill tech s...|            2.0|           -22|     0|\n",
      "|5021520|          1|           1|              0|           0|        144000.0|       State servant|         Secondary |           Married|             House |    -18136|       -10110|         1|              0|         1|         0|High skill tech s...|            2.0|           -43|     1|\n",
      "|5021701|          1|           1|              0|           1|        180000.0|Commercial associate|         Secondary |         Separated|             House |    -18520|        -2101|         1|              0|         1|         1|          Core staff|            2.0|           -46|     0|\n",
      "|5021754|          1|           1|              0|           0|        171000.0|             Working|  Incomplete higher|           Married|             House |    -11052|         -609|         1|              0|         0|         0|High skill tech s...|            2.0|            -8|     0|\n",
      "|5021797|          1|           1|              0|           0|        225000.0|Commercial associate|         Secondary |           Married|             House |    -12325|         -187|         1|              0|         0|         0|          Core staff|            2.0|           -17|     1|\n",
      "|5021801|          1|           1|              0|           0|        225000.0|Commercial associate|         Secondary |           Married|             House |    -12325|         -187|         1|              0|         0|         0|          Core staff|            2.0|           -10|     1|\n",
      "|5021801|          1|           1|              0|           0|        225000.0|Commercial associate|         Secondary |           Married|             House |    -12325|         -187|         1|              0|         0|         0|          Core staff|            2.0|           -13|     0|\n",
      "|5022072|          1|           1|              0|           0|         90000.0|             Working|         Secondary |           Married|             House |    -19452|        -1218|         1|              1|         0|         0|         Sales staff|            2.0|            -8|     0|\n",
      "|5022117|          0|           1|              0|           0|        315000.0|             Working|         Secondary |           Married|             House |    -19686|        -1131|         1|              0|         0|         0|            Laborers|            2.0|           -21|     1|\n",
      "|5022206|          0|           1|              0|           1|        202500.0|Commercial associate|         Secondary |           Married|             House |    -14143|         -275|         1|              0|         1|         0|             Drivers|            3.0|           -39|     0|\n",
      "|5022252|          1|           1|              0|           0|        202500.0|             Working|         Secondary |           Married|             House |    -15231|        -8375|         1|              0|         0|         1|High skill tech s...|            2.0|           -34|     1|\n",
      "|5022298|          1|           1|              1|           1|        157500.0|             Working|         Secondary |    Civil marriage|             House |    -15100|        -3500|         1|              0|         0|         0|       Cooking staff|            3.0|           -12|     1|\n",
      "|5022371|          0|           0|              1|           0|        270000.0|             Working|  Incomplete higher|           Married|             House |    -11172|        -3504|         1|              0|         0|         0|            Laborers|            2.0|           -47|     0|\n",
      "|5022383|          1|           1|              0|           0|        225000.0|Commercial associate|   Higher education|             Widow|             House |    -21594|       -11693|         1|              1|         1|         0|            Laborers|            1.0|           -31|     1|\n",
      "|5022426|          1|           1|              0|           0|         90000.0|             Working|         Secondary |    Civil marriage|             House |    -16569|         -517|         1|              0|         0|         0|            Laborers|            2.0|           -15|     1|\n",
      "|5022426|          1|           1|              0|           0|         90000.0|             Working|         Secondary |    Civil marriage|             House |    -16569|         -517|         1|              0|         0|         0|            Laborers|            2.0|           -35|     0|\n",
      "|5022536|          1|           1|              0|           2|        202500.0|             Working|   Higher education|           Married|             House |    -10724|        -3074|         1|              0|         0|         0|High skill tech s...|            4.0|            -6|     0|\n",
      "|5022548|          1|           1|              0|           0|        247500.0|Commercial associate|   Higher education|           Single |             House |    -11984|        -2043|         1|              0|         0|         1|          Core staff|            1.0|            -6|     1|\n",
      "|5022619|          0|           0|              0|           0|        202500.0|Commercial associate|         Secondary |    Civil marriage|             House |    -12022|        -1674|         1|              0|         0|         1|            Laborers|            2.0|           -34|     1|\n",
      "|5022684|          1|           1|              1|           0|        157500.0|             Working|         Secondary |         Separated|       With parents|    -14309|         -548|         1|              1|         1|         0|         Sales staff|            1.0|            -9|     0|\n",
      "|5022707|          0|           0|              0|           0|        315000.0|             Working|         Secondary |           Single |             House |    -14064|        -5326|         1|              0|         0|         0|             Drivers|            1.0|            -9|     0|\n",
      "|5022834|          0|           0|              0|           0|        202500.0|             Working|         Secondary |           Married|             House |    -17262|        -1617|         1|              0|         0|         0|          Core staff|            2.0|            -3|     0|\n",
      "|5022837|          0|           0|              0|           0|        202500.0|             Working|         Secondary |           Married|             House |    -17262|        -1617|         1|              0|         0|         0|          Core staff|            2.0|           -13|     1|\n",
      "|5022944|          1|           0|              1|           0|        202500.0|Commercial associate|  Incomplete higher|         Separated|             House |    -14096|        -1344|         1|              0|         1|         1|         Accountants|            1.0|           -55|     1|\n",
      "|5022958|          1|           1|              1|           0|         99000.0|Commercial associate|         Secondary |         Separated|             House |    -15025|         -213|         1|              0|         0|         1|         Sales staff|            1.0|           -10|     1|\n",
      "|5022996|          1|           1|              0|           0|        180000.0|             Working|         Secondary |           Single |             House |    -23007|       -11589|         1|              1|         1|         0|      Cleaning staff|            1.0|           -21|     1|\n",
      "|5022996|          1|           1|              0|           0|        180000.0|             Working|         Secondary |           Single |             House |    -23007|       -11589|         1|              1|         1|         0|      Cleaning staff|            1.0|           -25|     1|\n",
      "|5023176|          1|           1|              0|           1|        337500.0|             Working|         Secondary |    Civil marriage|             House |    -17738|        -4710|         1|              1|         1|         0|            Laborers|            3.0|           -52|     0|\n",
      "|5023305|          0|           0|              1|           1|        225000.0|             Working|         Secondary |           Married|             House |    -10502|        -1878|         1|              0|         0|         0|            Laborers|            3.0|            -3|     1|\n",
      "|5023373|          1|           1|              0|           2|        157500.0|Commercial associate|         Secondary |           Married|             House |    -17004|        -1117|         1|              1|         0|         0|Private service s...|            4.0|           -42|     1|\n",
      "|5023390|          0|           0|              0|           2|        157500.0|Commercial associate|   Higher education|           Married|             House |    -13536|        -2092|         1|              0|         0|         0|          Core staff|            4.0|           -23|     1|\n",
      "|5023506|          1|           1|              0|           0|        207000.0|       State servant|         Secondary |             Widow|             House |    -19876|        -5865|         1|              0|         0|         0|      Medicine staff|            1.0|            -6|     1|\n",
      "|5023507|          1|           1|              0|           0|        207000.0|       State servant|         Secondary |             Widow|             House |    -19876|        -5865|         1|              0|         0|         0|      Medicine staff|            1.0|           -36|     0|\n",
      "|5023520|          0|           0|              0|           1|        112500.0|             Working|   Higher education|           Married|             House |    -16023|         -965|         1|              0|         1|         0|             Drivers|            3.0|           -29|     1|\n",
      "|5023531|          1|           1|              0|           0|        274500.0|Commercial associate|         Secondary |           Married|             House |    -20459|        -6930|         1|              0|         0|         0|High skill tech s...|            2.0|           -13|     1|\n",
      "|5023626|          1|           1|              1|           2|        180000.0|Commercial associate|  Incomplete higher|           Married|             House |    -13803|        -3249|         1|              0|         1|         0|         Sales staff|            4.0|            -4|     1|\n",
      "|5023628|          1|           1|              0|           0|        270000.0|Commercial associate|         Secondary |             Widow|             House |    -13270|         -235|         1|              1|         1|         1|          Core staff|            1.0|           -39|     0|\n",
      "|5023678|          1|           0|              0|           0|        117000.0|             Working|         Secondary |           Married|             House |    -11736|        -1816|         1|              0|         0|         0|       Cooking staff|            2.0|           -23|     0|\n",
      "|5023996|          0|           0|              0|           0|        315000.0|             Working|   Higher education|           Married|             House |    -10847|        -2712|         1|              0|         0|         0|            Laborers|            2.0|           -22|     0|\n",
      "|5024089|          1|           0|              1|           0|        126000.0|       State servant|  Incomplete higher|           Single |             House |    -11978|        -5206|         1|              1|         0|         0|          Core staff|            1.0|           -16|     1|\n",
      "|5024113|          1|           1|              0|           0|        180000.0|             Working|         Secondary |           Married|             House |    -22041|        -1524|         1|              1|         1|         0|         Accountants|            2.0|            -1|     0|\n",
      "|5024113|          1|           1|              0|           0|        180000.0|             Working|         Secondary |           Married|             House |    -22041|        -1524|         1|              1|         1|         0|         Accountants|            2.0|           -27|     1|\n",
      "|5024329|          1|           1|              0|           0|        225000.0|Commercial associate|         Secondary |           Married|             House |    -17401|        -9559|         1|              0|         0|         0|       Realty agents|            2.0|           -11|     0|\n",
      "|5024329|          1|           1|              0|           0|        225000.0|Commercial associate|         Secondary |           Married|             House |    -17401|        -9559|         1|              0|         0|         0|       Realty agents|            2.0|           -23|     0|\n",
      "|5024350|          0|           0|              0|           0|        585000.0|Commercial associate|         Secondary |           Married|       With parents|    -16653|        -1646|         1|              0|         0|         0|             Drivers|            2.0|           -42|     1|\n",
      "|5024450|          0|           0|              0|           0|        180000.0|             Working|         Secondary |           Married|             House |    -12604|        -2620|         1|              1|         1|         0|            Managers|            2.0|            -3|     1|\n",
      "|5024450|          0|           0|              0|           0|        180000.0|             Working|         Secondary |           Married|             House |    -12604|        -2620|         1|              1|         1|         0|            Managers|            2.0|            -5|     1|\n",
      "|5024676|          1|           1|              0|           1|        180000.0|             Working|   Higher education|         Separated|             House |    -15113|        -1585|         1|              0|         0|         0|            HR staff|            2.0|           -10|     1|\n",
      "|5024781|          1|           1|              0|           1|        135000.0|Commercial associate|   Higher education|           Married|             House |    -11659|         -397|         1|              0|         0|         0|         Accountants|            3.0|           -33|     1|\n",
      "|5024781|          1|           1|              0|           1|        135000.0|Commercial associate|   Higher education|           Married|             House |    -11659|         -397|         1|              0|         0|         0|         Accountants|            3.0|           -36|     1|\n",
      "|5024824|          1|           1|              1|           1|         90000.0|             Working|         Secondary |           Married|             House |    -12384|        -2223|         1|              1|         1|         0|         Sales staff|            3.0|           -27|     1|\n",
      "|5024868|          1|           1|              1|           0|        211500.0|             Working|         Secondary |           Married|             House |    -18611|        -3563|         1|              1|         1|         0|      Security staff|            2.0|           -35|     1|\n",
      "|5024892|          1|           1|              0|           1|        225000.0|Commercial associate|         Secondary |    Civil marriage|Municipal apartment|    -13933|        -3625|         1|              0|         0|         0|         Accountants|            3.0|            -4|     1|\n",
      "|5024892|          1|           1|              0|           1|        225000.0|Commercial associate|         Secondary |    Civil marriage|Municipal apartment|    -13933|        -3625|         1|              0|         0|         0|         Accountants|            3.0|           -21|     1|\n",
      "|5024892|          1|           1|              0|           1|        225000.0|Commercial associate|         Secondary |    Civil marriage|Municipal apartment|    -13933|        -3625|         1|              0|         0|         0|         Accountants|            3.0|           -44|     0|\n",
      "|5024944|          0|           0|              0|           0|        180000.0|             Working|         Secondary |           Married|             House |    -15623|        -1645|         1|              0|         0|         0|            Laborers|            2.0|            -8|     1|\n",
      "|5024944|          0|           0|              0|           0|        180000.0|             Working|         Secondary |           Married|             House |    -15623|        -1645|         1|              0|         0|         0|            Laborers|            2.0|           -21|     1|\n",
      "|5025015|          0|           0|              1|           0|        256500.0|             Working|         Secondary |           Married|             House |    -13694|         -246|         1|              1|         0|         0|            Laborers|            2.0|           -24|     0|\n",
      "|5025220|          1|           1|              0|           1|        184500.0|             Working|         Secondary |           Married|             House |    -11631|        -5055|         1|              0|         0|         0|            Laborers|            3.0|           -18|     1|\n",
      "|5025225|          1|           0|              1|           1|        202500.0|             Working|   Higher education|           Married|             House |    -10636|         -915|         1|              0|         0|         0|         Sales staff|            3.0|           -35|     0|\n",
      "+-------+-----------+------------+---------------+------------+----------------+--------------------+-------------------+------------------+-------------------+----------+-------------+----------+---------------+----------+----------+--------------------+---------------+--------------+------+\n",
      "only showing top 100 rows\n",
      "\n"
     ]
    }
   ],
   "source": [
    "#checking the result on random sample from dataframe\n",
    "df_final.sample(fraction=0.01).show(100)"
   ]
  },
  {
   "cell_type": "code",
   "execution_count": 39,
   "metadata": {
    "colab": {
     "base_uri": "https://localhost:8080/"
    },
    "id": "-vxn0XkgQuNH",
    "outputId": "5d99fbff-5a30-4ac0-fdd4-6e342122e199"
   },
   "outputs": [
    {
     "name": "stdout",
     "output_type": "stream",
     "text": [
      "+-------+-----------+------------+---------------+------------+----------------+----------------+-------------------+------------------+-----------------+----------+-------------+----------+---------------+----------+----------+---------------+---------------+--------------+------+\n",
      "|     ID|CODE_GENDER|FLAG_OWN_CAR|FLAG_OWN_REALTY|CNT_CHILDREN|AMT_INCOME_TOTAL|NAME_INCOME_TYPE|NAME_EDUCATION_TYPE|NAME_FAMILY_STATUS|NAME_HOUSING_TYPE|DAYS_BIRTH|DAYS_EMPLOYED|FLAG_MOBIL|FLAG_WORK_PHONE|FLAG_PHONE|FLAG_EMAIL|OCCUPATION_TYPE|CNT_FAM_MEMBERS|MONTHS_BALANCE|STATUS|\n",
      "+-------+-----------+------------+---------------+------------+----------------+----------------+-------------------+------------------+-----------------+----------+-------------+----------+---------------+----------+----------+---------------+---------------+--------------+------+\n",
      "|5008806|          0|           0|              0|           0|             112|         Working|         Secondary |           Married|           House |    -21474|        -1134|         1|              0|         0|         0| Security staff|            2.0|             0|     1|\n",
      "|5008806|          0|           0|              0|           0|             112|         Working|         Secondary |           Married|           House |    -21474|        -1134|         1|              0|         0|         0| Security staff|            2.0|            -1|     1|\n",
      "|5008806|          0|           0|              0|           0|             112|         Working|         Secondary |           Married|           House |    -21474|        -1134|         1|              0|         0|         0| Security staff|            2.0|            -2|     1|\n",
      "|5008806|          0|           0|              0|           0|             112|         Working|         Secondary |           Married|           House |    -21474|        -1134|         1|              0|         0|         0| Security staff|            2.0|            -3|     1|\n",
      "|5008806|          0|           0|              0|           0|             112|         Working|         Secondary |           Married|           House |    -21474|        -1134|         1|              0|         0|         0| Security staff|            2.0|            -4|     1|\n",
      "+-------+-----------+------------+---------------+------------+----------------+----------------+-------------------+------------------+-----------------+----------+-------------+----------+---------------+----------+----------+---------------+---------------+--------------+------+\n",
      "only showing top 5 rows\n",
      "\n"
     ]
    }
   ],
   "source": [
    "#rounding off the values in column AMT_INCOME_TOTAL\n",
    "df_final = df_final.withColumn('AMT_INCOME_TOTAL', col('AMT_INCOME_TOTAL')/1000)\n",
    "df_final = df_final.withColumn('AMT_INCOME_TOTAL', col('AMT_INCOME_TOTAL').cast('integer'))\n",
    "df_final.show(5)"
   ]
  },
  {
   "cell_type": "code",
   "execution_count": 40,
   "metadata": {
    "colab": {
     "base_uri": "https://localhost:8080/"
    },
    "id": "ckKZYCg3STXi",
    "outputId": "cbec122d-f784-45d6-dcf4-8852c002df25"
   },
   "outputs": [
    {
     "name": "stdout",
     "output_type": "stream",
     "text": [
      "+-------+-----------+------------+---------------+------------+----------------+----------------+-------------------+------------------+-----------------+----------+---------------+----------+----------+---------------+---------------+--------------+------+----+-------------------+\n",
      "|     ID|CODE_GENDER|FLAG_OWN_CAR|FLAG_OWN_REALTY|CNT_CHILDREN|AMT_INCOME_TOTAL|NAME_INCOME_TYPE|NAME_EDUCATION_TYPE|NAME_FAMILY_STATUS|NAME_HOUSING_TYPE|FLAG_MOBIL|FLAG_WORK_PHONE|FLAG_PHONE|FLAG_EMAIL|OCCUPATION_TYPE|CNT_FAM_MEMBERS|MONTHS_BALANCE|STATUS| Age|employee_from_years|\n",
      "+-------+-----------+------------+---------------+------------+----------------+----------------+-------------------+------------------+-----------------+----------+---------------+----------+----------+---------------+---------------+--------------+------+----+-------------------+\n",
      "|5008806|          0|           0|              0|           0|             112|         Working|         Secondary |           Married|           House |         1|              0|         0|         0| Security staff|            2.0|             0|     1|59.0|                3.0|\n",
      "|5008806|          0|           0|              0|           0|             112|         Working|         Secondary |           Married|           House |         1|              0|         0|         0| Security staff|            2.0|            -1|     1|59.0|                3.0|\n",
      "|5008806|          0|           0|              0|           0|             112|         Working|         Secondary |           Married|           House |         1|              0|         0|         0| Security staff|            2.0|            -2|     1|59.0|                3.0|\n",
      "|5008806|          0|           0|              0|           0|             112|         Working|         Secondary |           Married|           House |         1|              0|         0|         0| Security staff|            2.0|            -3|     1|59.0|                3.0|\n",
      "|5008806|          0|           0|              0|           0|             112|         Working|         Secondary |           Married|           House |         1|              0|         0|         0| Security staff|            2.0|            -4|     1|59.0|                3.0|\n",
      "+-------+-----------+------------+---------------+------------+----------------+----------------+-------------------+------------------+-----------------+----------+---------------+----------+----------+---------------+---------------+--------------+------+----+-------------------+\n",
      "only showing top 5 rows\n",
      "\n"
     ]
    }
   ],
   "source": [
    "#converting days into years in column DAYS_BIRTH and DAYS_EMPLOYED and assigning them into new columns Age and employee_from_years \n",
    "from pyspark.sql.functions import round\n",
    "df_final = df_final.withColumn('Age', round(-(col('DAYS_BIRTH')/365)))\n",
    "df_final = df_final.withColumn('employee_from_years', round(-(col('DAYS_EMPLOYED')/365)))\n",
    "\n",
    "# Drop the column 'DAYS_BIRTH' & 'DAYS_EMPLOYED'.\n",
    "df_final = df_final.drop('DAYS_BIRTH', 'DAYS_EMPLOYED')\n",
    "df_final.show(5)"
   ]
  },
  {
   "cell_type": "code",
   "execution_count": 41,
   "metadata": {
    "colab": {
     "base_uri": "https://localhost:8080/"
    },
    "id": "pgbYBQIgS2_R",
    "outputId": "f4ad1e40-1795-45a8-fca0-19d0ee21e988"
   },
   "outputs": [
    {
     "name": "stdout",
     "output_type": "stream",
     "text": [
      "root\n",
      " |-- ID: integer (nullable = true)\n",
      " |-- CODE_GENDER: integer (nullable = false)\n",
      " |-- FLAG_OWN_CAR: integer (nullable = false)\n",
      " |-- FLAG_OWN_REALTY: integer (nullable = false)\n",
      " |-- CNT_CHILDREN: integer (nullable = true)\n",
      " |-- AMT_INCOME_TOTAL: integer (nullable = true)\n",
      " |-- NAME_INCOME_TYPE: string (nullable = true)\n",
      " |-- NAME_EDUCATION_TYPE: string (nullable = true)\n",
      " |-- NAME_FAMILY_STATUS: string (nullable = true)\n",
      " |-- NAME_HOUSING_TYPE: string (nullable = true)\n",
      " |-- FLAG_MOBIL: integer (nullable = true)\n",
      " |-- FLAG_WORK_PHONE: integer (nullable = true)\n",
      " |-- FLAG_PHONE: integer (nullable = true)\n",
      " |-- FLAG_EMAIL: integer (nullable = true)\n",
      " |-- OCCUPATION_TYPE: string (nullable = true)\n",
      " |-- CNT_FAM_MEMBERS: double (nullable = true)\n",
      " |-- MONTHS_BALANCE: integer (nullable = true)\n",
      " |-- STATUS: integer (nullable = false)\n",
      " |-- Age: double (nullable = true)\n",
      " |-- employee_from_years: double (nullable = true)\n",
      "\n"
     ]
    }
   ],
   "source": [
    "df_final.printSchema()"
   ]
  },
  {
   "cell_type": "code",
   "execution_count": 44,
   "metadata": {
    "colab": {
     "base_uri": "https://localhost:8080/"
    },
    "id": "y1GD_ozATZca",
    "outputId": "438bfc5d-d047-48da-fe5c-0079b609d703"
   },
   "outputs": [
    {
     "name": "stdout",
     "output_type": "stream",
     "text": [
      "root\n",
      " |-- CODE_GENDER: integer (nullable = false)\n",
      " |-- FLAG_OWN_CAR: integer (nullable = false)\n",
      " |-- FLAG_OWN_REALTY: integer (nullable = false)\n",
      " |-- AMT_INCOME_TOTAL: integer (nullable = true)\n",
      " |-- NAME_INCOME_TYPE: string (nullable = true)\n",
      " |-- NAME_EDUCATION_TYPE: string (nullable = true)\n",
      " |-- NAME_FAMILY_STATUS: string (nullable = true)\n",
      " |-- NAME_HOUSING_TYPE: string (nullable = true)\n",
      " |-- FLAG_PHONE: integer (nullable = true)\n",
      " |-- OCCUPATION_TYPE: string (nullable = true)\n",
      " |-- CNT_FAM_MEMBERS: double (nullable = true)\n",
      " |-- MONTHS_BALANCE: integer (nullable = true)\n",
      " |-- STATUS: integer (nullable = false)\n",
      " |-- Age: double (nullable = true)\n",
      " |-- employee_from_years: double (nullable = true)\n",
      "\n"
     ]
    }
   ],
   "source": [
    "#Dropping columns ID , CNT_CHILDREN , FLAG_MOBIL , FLAG_WORK_PHONE , FLAG_EMAIL \n",
    "df_final = df_final.drop('ID', 'CNT_CHILDREN', 'FLAG_MOBIL', 'FLAG_WORK_PHONE', 'FLAG_EMAIL')\n",
    "df_final.printSchema()"
   ]
  },
  {
   "cell_type": "code",
   "execution_count": 53,
   "metadata": {
    "colab": {
     "base_uri": "https://localhost:8080/",
     "height": 709
    },
    "id": "i2y63dBAURkU",
    "outputId": "23f4a930-89f9-4ebf-f569-f6fc9ac198fa"
   },
   "outputs": [
    {
     "ename": "ValueError",
     "evalue": "could not convert string to float: 'Working'",
     "output_type": "error",
     "traceback": [
      "\u001b[1;31m---------------------------------------------------------------------------\u001b[0m",
      "\u001b[1;31mValueError\u001b[0m                                Traceback (most recent call last)",
      "Cell \u001b[1;32mIn[53], line 6\u001b[0m\n\u001b[0;32m      4\u001b[0m df_pandas \u001b[38;5;241m=\u001b[39m df_final\u001b[38;5;241m.\u001b[39mtoPandas()\n\u001b[0;32m      5\u001b[0m plt\u001b[38;5;241m.\u001b[39mfigure(figsize \u001b[38;5;241m=\u001b[39m (\u001b[38;5;241m15\u001b[39m,\u001b[38;5;241m10\u001b[39m))\n\u001b[1;32m----> 6\u001b[0m sns\u001b[38;5;241m.\u001b[39mheatmap(\u001b[43mdf_pandas\u001b[49m\u001b[38;5;241;43m.\u001b[39;49m\u001b[43mcorr\u001b[49m\u001b[43m(\u001b[49m\u001b[43m)\u001b[49m, annot \u001b[38;5;241m=\u001b[39m \u001b[38;5;28;01mTrue\u001b[39;00m )\n\u001b[0;32m      7\u001b[0m plt\u001b[38;5;241m.\u001b[39mtitle(\u001b[38;5;124m'\u001b[39m\u001b[38;5;124mCorrelation between the Features\u001b[39m\u001b[38;5;124m'\u001b[39m, size \u001b[38;5;241m=\u001b[39m \u001b[38;5;241m16\u001b[39m)\n\u001b[0;32m      8\u001b[0m plt\u001b[38;5;241m.\u001b[39mshow()\n",
      "File \u001b[1;32m~\\.conda\\envs\\new_env\\lib\\site-packages\\pandas\\core\\frame.py:10054\u001b[0m, in \u001b[0;36mDataFrame.corr\u001b[1;34m(self, method, min_periods, numeric_only)\u001b[0m\n\u001b[0;32m  10052\u001b[0m cols \u001b[38;5;241m=\u001b[39m data\u001b[38;5;241m.\u001b[39mcolumns\n\u001b[0;32m  10053\u001b[0m idx \u001b[38;5;241m=\u001b[39m cols\u001b[38;5;241m.\u001b[39mcopy()\n\u001b[1;32m> 10054\u001b[0m mat \u001b[38;5;241m=\u001b[39m \u001b[43mdata\u001b[49m\u001b[38;5;241;43m.\u001b[39;49m\u001b[43mto_numpy\u001b[49m\u001b[43m(\u001b[49m\u001b[43mdtype\u001b[49m\u001b[38;5;241;43m=\u001b[39;49m\u001b[38;5;28;43mfloat\u001b[39;49m\u001b[43m,\u001b[49m\u001b[43m \u001b[49m\u001b[43mna_value\u001b[49m\u001b[38;5;241;43m=\u001b[39;49m\u001b[43mnp\u001b[49m\u001b[38;5;241;43m.\u001b[39;49m\u001b[43mnan\u001b[49m\u001b[43m,\u001b[49m\u001b[43m \u001b[49m\u001b[43mcopy\u001b[49m\u001b[38;5;241;43m=\u001b[39;49m\u001b[38;5;28;43;01mFalse\u001b[39;49;00m\u001b[43m)\u001b[49m\n\u001b[0;32m  10056\u001b[0m \u001b[38;5;28;01mif\u001b[39;00m method \u001b[38;5;241m==\u001b[39m \u001b[38;5;124m\"\u001b[39m\u001b[38;5;124mpearson\u001b[39m\u001b[38;5;124m\"\u001b[39m:\n\u001b[0;32m  10057\u001b[0m     correl \u001b[38;5;241m=\u001b[39m libalgos\u001b[38;5;241m.\u001b[39mnancorr(mat, minp\u001b[38;5;241m=\u001b[39mmin_periods)\n",
      "File \u001b[1;32m~\\.conda\\envs\\new_env\\lib\\site-packages\\pandas\\core\\frame.py:1838\u001b[0m, in \u001b[0;36mDataFrame.to_numpy\u001b[1;34m(self, dtype, copy, na_value)\u001b[0m\n\u001b[0;32m   1836\u001b[0m \u001b[38;5;28;01mif\u001b[39;00m dtype \u001b[38;5;129;01mis\u001b[39;00m \u001b[38;5;129;01mnot\u001b[39;00m \u001b[38;5;28;01mNone\u001b[39;00m:\n\u001b[0;32m   1837\u001b[0m     dtype \u001b[38;5;241m=\u001b[39m np\u001b[38;5;241m.\u001b[39mdtype(dtype)\n\u001b[1;32m-> 1838\u001b[0m result \u001b[38;5;241m=\u001b[39m \u001b[38;5;28;43mself\u001b[39;49m\u001b[38;5;241;43m.\u001b[39;49m\u001b[43m_mgr\u001b[49m\u001b[38;5;241;43m.\u001b[39;49m\u001b[43mas_array\u001b[49m\u001b[43m(\u001b[49m\u001b[43mdtype\u001b[49m\u001b[38;5;241;43m=\u001b[39;49m\u001b[43mdtype\u001b[49m\u001b[43m,\u001b[49m\u001b[43m \u001b[49m\u001b[43mcopy\u001b[49m\u001b[38;5;241;43m=\u001b[39;49m\u001b[43mcopy\u001b[49m\u001b[43m,\u001b[49m\u001b[43m \u001b[49m\u001b[43mna_value\u001b[49m\u001b[38;5;241;43m=\u001b[39;49m\u001b[43mna_value\u001b[49m\u001b[43m)\u001b[49m\n\u001b[0;32m   1839\u001b[0m \u001b[38;5;28;01mif\u001b[39;00m result\u001b[38;5;241m.\u001b[39mdtype \u001b[38;5;129;01mis\u001b[39;00m \u001b[38;5;129;01mnot\u001b[39;00m dtype:\n\u001b[0;32m   1840\u001b[0m     result \u001b[38;5;241m=\u001b[39m np\u001b[38;5;241m.\u001b[39marray(result, dtype\u001b[38;5;241m=\u001b[39mdtype, copy\u001b[38;5;241m=\u001b[39m\u001b[38;5;28;01mFalse\u001b[39;00m)\n",
      "File \u001b[1;32m~\\.conda\\envs\\new_env\\lib\\site-packages\\pandas\\core\\internals\\managers.py:1732\u001b[0m, in \u001b[0;36mBlockManager.as_array\u001b[1;34m(self, dtype, copy, na_value)\u001b[0m\n\u001b[0;32m   1730\u001b[0m         arr\u001b[38;5;241m.\u001b[39mflags\u001b[38;5;241m.\u001b[39mwriteable \u001b[38;5;241m=\u001b[39m \u001b[38;5;28;01mFalse\u001b[39;00m\n\u001b[0;32m   1731\u001b[0m \u001b[38;5;28;01melse\u001b[39;00m:\n\u001b[1;32m-> 1732\u001b[0m     arr \u001b[38;5;241m=\u001b[39m \u001b[38;5;28;43mself\u001b[39;49m\u001b[38;5;241;43m.\u001b[39;49m\u001b[43m_interleave\u001b[49m\u001b[43m(\u001b[49m\u001b[43mdtype\u001b[49m\u001b[38;5;241;43m=\u001b[39;49m\u001b[43mdtype\u001b[49m\u001b[43m,\u001b[49m\u001b[43m \u001b[49m\u001b[43mna_value\u001b[49m\u001b[38;5;241;43m=\u001b[39;49m\u001b[43mna_value\u001b[49m\u001b[43m)\u001b[49m\n\u001b[0;32m   1733\u001b[0m     \u001b[38;5;66;03m# The underlying data was copied within _interleave, so no need\u001b[39;00m\n\u001b[0;32m   1734\u001b[0m     \u001b[38;5;66;03m# to further copy if copy=True or setting na_value\u001b[39;00m\n\u001b[0;32m   1736\u001b[0m \u001b[38;5;28;01mif\u001b[39;00m na_value \u001b[38;5;129;01mis\u001b[39;00m \u001b[38;5;129;01mnot\u001b[39;00m lib\u001b[38;5;241m.\u001b[39mno_default:\n",
      "File \u001b[1;32m~\\.conda\\envs\\new_env\\lib\\site-packages\\pandas\\core\\internals\\managers.py:1794\u001b[0m, in \u001b[0;36mBlockManager._interleave\u001b[1;34m(self, dtype, na_value)\u001b[0m\n\u001b[0;32m   1792\u001b[0m     \u001b[38;5;28;01melse\u001b[39;00m:\n\u001b[0;32m   1793\u001b[0m         arr \u001b[38;5;241m=\u001b[39m blk\u001b[38;5;241m.\u001b[39mget_values(dtype)\n\u001b[1;32m-> 1794\u001b[0m     result[rl\u001b[38;5;241m.\u001b[39mindexer] \u001b[38;5;241m=\u001b[39m arr\n\u001b[0;32m   1795\u001b[0m     itemmask[rl\u001b[38;5;241m.\u001b[39mindexer] \u001b[38;5;241m=\u001b[39m \u001b[38;5;241m1\u001b[39m\n\u001b[0;32m   1797\u001b[0m \u001b[38;5;28;01mif\u001b[39;00m \u001b[38;5;129;01mnot\u001b[39;00m itemmask\u001b[38;5;241m.\u001b[39mall():\n",
      "\u001b[1;31mValueError\u001b[0m: could not convert string to float: 'Working'"
     ]
    },
    {
     "data": {
      "text/plain": [
       "<Figure size 1500x1000 with 0 Axes>"
      ]
     },
     "metadata": {},
     "output_type": "display_data"
    }
   ],
   "source": [
    "import pandas as pd\n",
    "import matplotlib.pyplot as plt\n",
    "import seaborn as sns\n",
    "df_pandas = df_final.toPandas()\n",
    "plt.figure(figsize = (15,10))\n",
    "sns.heatmap(df_pandas.corr(), annot = True )\n",
    "plt.title('Correlation between the Features', size = 15)\n",
    "plt.show()"
   ]
  },
  {
   "cell_type": "code",
   "execution_count": 54,
   "metadata": {
    "colab": {
     "base_uri": "https://localhost:8080/"
    },
    "id": "ihFovLxoUrZd",
    "outputId": "699a405c-a5ab-44f6-adbc-3c0f71792d59"
   },
   "outputs": [
    {
     "name": "stdout",
     "output_type": "stream",
     "text": [
      "<class 'pandas.core.frame.DataFrame'>\n",
      "RangeIndex: 537667 entries, 0 to 537666\n",
      "Data columns (total 15 columns):\n",
      " #   Column               Non-Null Count   Dtype  \n",
      "---  ------               --------------   -----  \n",
      " 0   CODE_GENDER          537667 non-null  int32  \n",
      " 1   FLAG_OWN_CAR         537667 non-null  int32  \n",
      " 2   FLAG_OWN_REALTY      537667 non-null  int32  \n",
      " 3   AMT_INCOME_TOTAL     537667 non-null  int32  \n",
      " 4   NAME_INCOME_TYPE     537667 non-null  object \n",
      " 5   NAME_EDUCATION_TYPE  537667 non-null  object \n",
      " 6   NAME_FAMILY_STATUS   537667 non-null  object \n",
      " 7   NAME_HOUSING_TYPE    537667 non-null  object \n",
      " 8   FLAG_PHONE           537667 non-null  int32  \n",
      " 9   OCCUPATION_TYPE      537667 non-null  object \n",
      " 10  CNT_FAM_MEMBERS      537667 non-null  float64\n",
      " 11  MONTHS_BALANCE       537667 non-null  int32  \n",
      " 12  STATUS               537667 non-null  int32  \n",
      " 13  Age                  537667 non-null  float64\n",
      " 14  employee_from_years  537667 non-null  float64\n",
      "dtypes: float64(3), int32(7), object(5)\n",
      "memory usage: 47.2+ MB\n"
     ]
    }
   ],
   "source": [
    "#df_pandas.head()\n",
    "df_pandas.info()"
   ]
  },
  {
   "cell_type": "code",
   "execution_count": 55,
   "metadata": {
    "id": "vRBxlrj3VfGc"
   },
   "outputs": [],
   "source": [
    "from pyspark.ml.feature import StringIndexer, OneHotEncoder\n",
    "def one_hot_encode(df, columns):\n",
    "    for col_name in columns:\n",
    "        indexer = StringIndexer(inputCol=col_name, outputCol=f\"{col_name}_index\")\n",
    "        df = indexer.fit(df).transform(df)\n",
    "\n",
    "        encoder = OneHotEncoder(inputCols=[f\"{col_name}_index\"], outputCols=[f\"{col_name}_one_hot\"], dropLast=True)\n",
    "        df = encoder.fit(df).transform(df)\n",
    "\n",
    "        df = df.drop(col_name).drop(f\"{col_name}_index\")\n",
    "\n",
    "    return df"
   ]
  },
  {
   "cell_type": "code",
   "execution_count": 56,
   "metadata": {
    "colab": {
     "base_uri": "https://localhost:8080/"
    },
    "id": "4dU3hKyJU7YK",
    "outputId": "ad87bd2e-c9cd-4b06-fc43-54b2d11bd971"
   },
   "outputs": [
    {
     "name": "stdout",
     "output_type": "stream",
     "text": [
      "+-----------+------------+---------------+----------------+----------+---------------+--------------+------+----+-------------------+------------------------+---------------------------+--------------------------+-------------------------+-----------------------+\n",
      "|CODE_GENDER|FLAG_OWN_CAR|FLAG_OWN_REALTY|AMT_INCOME_TOTAL|FLAG_PHONE|CNT_FAM_MEMBERS|MONTHS_BALANCE|STATUS| Age|employee_from_years|NAME_INCOME_TYPE_one_hot|NAME_EDUCATION_TYPE_one_hot|NAME_FAMILY_STATUS_one_hot|NAME_HOUSING_TYPE_one_hot|OCCUPATION_TYPE_one_hot|\n",
      "+-----------+------------+---------------+----------------+----------+---------------+--------------+------+----+-------------------+------------------------+---------------------------+--------------------------+-------------------------+-----------------------+\n",
      "|          0|           0|              0|             112|         0|            2.0|             0|     1|59.0|                3.0|           (3,[0],[1.0])|              (4,[0],[1.0])|             (4,[0],[1.0])|            (5,[0],[1.0])|         (17,[9],[1.0])|\n",
      "|          0|           0|              0|             112|         0|            2.0|            -1|     1|59.0|                3.0|           (3,[0],[1.0])|              (4,[0],[1.0])|             (4,[0],[1.0])|            (5,[0],[1.0])|         (17,[9],[1.0])|\n",
      "|          0|           0|              0|             112|         0|            2.0|            -2|     1|59.0|                3.0|           (3,[0],[1.0])|              (4,[0],[1.0])|             (4,[0],[1.0])|            (5,[0],[1.0])|         (17,[9],[1.0])|\n",
      "|          0|           0|              0|             112|         0|            2.0|            -3|     1|59.0|                3.0|           (3,[0],[1.0])|              (4,[0],[1.0])|             (4,[0],[1.0])|            (5,[0],[1.0])|         (17,[9],[1.0])|\n",
      "|          0|           0|              0|             112|         0|            2.0|            -4|     1|59.0|                3.0|           (3,[0],[1.0])|              (4,[0],[1.0])|             (4,[0],[1.0])|            (5,[0],[1.0])|         (17,[9],[1.0])|\n",
      "+-----------+------------+---------------+----------------+----------+---------------+--------------+------+----+-------------------+------------------------+---------------------------+--------------------------+-------------------------+-----------------------+\n",
      "only showing top 5 rows\n",
      "\n"
     ]
    }
   ],
   "source": [
    "categories=['NAME_INCOME_TYPE','NAME_EDUCATION_TYPE','NAME_FAMILY_STATUS','NAME_HOUSING_TYPE','OCCUPATION_TYPE']\n",
    "final_df = one_hot_encode(df_final, categories)\n",
    "final_df.show(5)"
   ]
  },
  {
   "cell_type": "code",
   "execution_count": null,
   "metadata": {},
   "outputs": [],
   "source": [
    "# from sklearn.model_selection import train_test_split\n",
    "# x_train, x_test, y_train, y_test=train_test_split(X,y,test_size=0.25,random_state=50)"
   ]
  },
  {
   "cell_type": "code",
   "execution_count": 57,
   "metadata": {
    "colab": {
     "base_uri": "https://localhost:8080/"
    },
    "id": "d0M8x9BSYvo1",
    "outputId": "6a67ad93-6997-4c1f-b48b-5951c4a9add3"
   },
   "outputs": [
    {
     "name": "stdout",
     "output_type": "stream",
     "text": [
      "No. of Rows in Final data frame:\n",
      "537667\n",
      "No. of Columns in Final data frame:\n",
      "15\n"
     ]
    }
   ],
   "source": [
    "n_rows = final_df.count()\n",
    "n_cols = len(final_df.columns)\n",
    "print(\"No. of Rows in Final data frame:\")\n",
    "print(n_rows)\n",
    "print(\"No. of Columns in Final data frame:\")\n",
    "print(n_cols)"
   ]
  },
  {
   "cell_type": "code",
   "execution_count": 58,
   "metadata": {
    "colab": {
     "base_uri": "https://localhost:8080/"
    },
    "id": "MgInKimnX5Is",
    "outputId": "03a3768f-969b-4551-a39a-1a0719f2c071"
   },
   "outputs": [
    {
     "name": "stdout",
     "output_type": "stream",
     "text": [
      "Number of unique values in 'CODE_GENDER','FLAG_OWN_CAR','FLAG_OWN_REALTY','STATUS' is 2 2 2 2\n"
     ]
    }
   ],
   "source": [
    "from pyspark.sql.functions import countDistinct\n",
    "unique_count1 = final_df.select(countDistinct('CODE_GENDER')).collect()[0][0]\n",
    "unique_count2 = final_df.select(countDistinct('STATUS')).collect()[0][0]\n",
    "unique_count3 = final_df.select(countDistinct('FLAG_OWN_CAR')).collect()[0][0]\n",
    "unique_count4 = final_df.select(countDistinct('FLAG_OWN_REALTY')).collect()[0][0]\n",
    "print(\"Number of unique values in 'CODE_GENDER','FLAG_OWN_CAR','FLAG_OWN_REALTY','STATUS' is\" , unique_count1 ,unique_count2 ,unique_count3 ,unique_count4)"
   ]
  },
  {
   "cell_type": "markdown",
   "metadata": {
    "id": "yt7cMzSzqX3V"
   },
   "source": [
    "**Logistic Regression**"
   ]
  },
  {
   "cell_type": "code",
   "execution_count": 59,
   "metadata": {
    "colab": {
     "base_uri": "https://localhost:8080/"
    },
    "id": "-1XkSXuRfPT4",
    "outputId": "efc7160c-17ea-48ba-b146-d7afee8f78aa"
   },
   "outputs": [
    {
     "name": "stdout",
     "output_type": "stream",
     "text": [
      "Test AUC: 0.5851\n"
     ]
    }
   ],
   "source": [
    "# Logistic Regression\n",
    "from pyspark.ml.feature import VectorAssembler\n",
    "from pyspark.ml.classification import LogisticRegression\n",
    "from pyspark.ml.evaluation import BinaryClassificationEvaluator\n",
    "\n",
    "# Combine all input features into a single vector\n",
    "assembler = VectorAssembler(inputCols=[c for c in final_df.columns if c != 'STATUS'],outputCol='features')\n",
    "data = assembler.transform(final_df)\n",
    "\n",
    "# Split data into train and test sets\n",
    "(train_data, test_data) = data.randomSplit([0.8, 0.2], seed=2)\n",
    "\n",
    "# Define the logistic regression model\n",
    "lr = LogisticRegression(featuresCol='features', labelCol='STATUS')\n",
    "\n",
    "# Train the model\n",
    "lr_model = lr.fit(train_data)\n",
    "\n",
    "# Make predictions on test data\n",
    "predictions = lr_model.transform(test_data)\n",
    "\n",
    "# Evaluate the model's performance on test data\n",
    "evaluator = BinaryClassificationEvaluator(labelCol='STATUS')\n",
    "auc = evaluator.evaluate(predictions)\n",
    "\n",
    "print(f\"Test AUC: {auc:.4f}\")"
   ]
  },
  {
   "cell_type": "markdown",
   "metadata": {
    "id": "kbW9xa_fq9ud"
   },
   "source": [
    "**Random Forest Classifier**"
   ]
  },
  {
   "cell_type": "code",
   "execution_count": 60,
   "metadata": {
    "colab": {
     "base_uri": "https://localhost:8080/"
    },
    "id": "pHMti8zbfzHV",
    "outputId": "f8c6d9ce-2374-4427-ee6f-100975258f32"
   },
   "outputs": [
    {
     "name": "stdout",
     "output_type": "stream",
     "text": [
      "Test accuracy: 0.6117\n"
     ]
    }
   ],
   "source": [
    "# Random Forest classifier\n",
    "from pyspark.ml.feature import VectorAssembler, StandardScaler\n",
    "from pyspark.ml.classification import RandomForestClassifier\n",
    "from pyspark.ml.evaluation import MulticlassClassificationEvaluator\n",
    "\n",
    "# Combine all input features into a single vector\n",
    "assembler = VectorAssembler(inputCols=[c for c in final_df.columns if c != 'STATUS'], outputCol='features')\n",
    "data = assembler.transform(final_df)\n",
    "\n",
    "# Scale the features\n",
    "scaler = StandardScaler(inputCol='features', outputCol='scaledFeatures')\n",
    "scalerModel = scaler.fit(data)\n",
    "data = scalerModel.transform(data)\n",
    "\n",
    "# Split data into train and test sets\n",
    "(train_data, test_data) = data.randomSplit([0.8, 0.2], seed=2)\n",
    "\n",
    "# Define the Random Forest classifier model\n",
    "rf = RandomForestClassifier(featuresCol='scaledFeatures', labelCol='STATUS')\n",
    "\n",
    "# Train the model\n",
    "rf_model = rf.fit(train_data)\n",
    "\n",
    "# Make predictions on test data\n",
    "predictions = rf_model.transform(test_data)\n",
    "\n",
    "# Evaluate the model's performance on test data\n",
    "evaluator = MulticlassClassificationEvaluator(labelCol='STATUS', metricName='accuracy')\n",
    "accuracy = evaluator.evaluate(predictions)\n",
    "\n",
    "print(f\"Test accuracy: {accuracy:.4f}\")"
   ]
  },
  {
   "cell_type": "markdown",
   "metadata": {
    "id": "z0dAR5r5rU9a"
   },
   "source": [
    "**Support Vector machine**"
   ]
  },
  {
   "cell_type": "code",
   "execution_count": 61,
   "metadata": {
    "colab": {
     "base_uri": "https://localhost:8080/"
    },
    "id": "0cEUHDemgINz",
    "outputId": "9fbf2672-a52c-4459-e523-25987e576ca1"
   },
   "outputs": [
    {
     "name": "stdout",
     "output_type": "stream",
     "text": [
      "Test AUC: 0.5708\n"
     ]
    }
   ],
   "source": [
    "# Support Vector machine\n",
    "from pyspark.ml.classification import LinearSVC\n",
    "from pyspark.ml.evaluation import BinaryClassificationEvaluator\n",
    "from pyspark.ml.feature import VectorAssembler\n",
    "\n",
    "# Combine all input features into a single vector\n",
    "assembler = VectorAssembler(inputCols=[c for c in final_df.columns if c != 'STATUS'],\n",
    "                            outputCol='features')\n",
    "data = assembler.transform(final_df)\n",
    "\n",
    "# Split data into train and test sets\n",
    "(train_data, test_data) = data.randomSplit([0.8, 0.2], seed=2)\n",
    "\n",
    "# Define the SVM model\n",
    "svm = LinearSVC(featuresCol='features', labelCol='STATUS', maxIter=10, regParam=0.1)\n",
    "\n",
    "# Train the model\n",
    "svm_model = svm.fit(train_data)\n",
    "\n",
    "# Make predictions on test data\n",
    "predictions = svm_model.transform(test_data)\n",
    "\n",
    "# Evaluate the model's performance on test data\n",
    "evaluator = BinaryClassificationEvaluator(labelCol='STATUS')\n",
    "auc = evaluator.evaluate(predictions)\n",
    "\n",
    "print(f\"Test AUC: {auc:.4f}\")"
   ]
  },
  {
   "cell_type": "markdown",
   "metadata": {
    "id": "20XqLRdordcZ"
   },
   "source": [
    "**Decision Tree Classifier**"
   ]
  },
  {
   "cell_type": "code",
   "execution_count": 62,
   "metadata": {
    "colab": {
     "base_uri": "https://localhost:8080/"
    },
    "id": "c3ocjpkCSoH9",
    "outputId": "3889c73e-38ef-4b1a-9ddf-171f97958330"
   },
   "outputs": [
    {
     "name": "stdout",
     "output_type": "stream",
     "text": [
      "Test accuracy: 0.6254\n"
     ]
    }
   ],
   "source": [
    "# Decision Tree Classifier\n",
    "from pyspark.ml.feature import VectorAssembler, StandardScaler\n",
    "from pyspark.ml.classification import DecisionTreeClassifier\n",
    "from pyspark.ml.evaluation import MulticlassClassificationEvaluator\n",
    "\n",
    "# Combine all input features into a single vector\n",
    "assembler = VectorAssembler(inputCols=[c for c in final_df.columns if c != 'STATUS'], outputCol='features')\n",
    "data = assembler.transform(final_df)\n",
    "\n",
    "# Scale the features\n",
    "scaler = StandardScaler(inputCol='features', outputCol='scaledFeatures')\n",
    "scalerModel = scaler.fit(data)\n",
    "data = scalerModel.transform(data)\n",
    "\n",
    "# Split data into train and test sets\n",
    "(train_data, test_data) = data.randomSplit([0.8, 0.2], seed=2)\n",
    "\n",
    "# Define the Decision Tree Classifier model\n",
    "dt = DecisionTreeClassifier(featuresCol='scaledFeatures', labelCol='STATUS')\n",
    "\n",
    "# Train the model\n",
    "dt_model = dt.fit(train_data)\n",
    "\n",
    "# Make predictions on test data\n",
    "predictions = dt_model.transform(test_data)\n",
    "\n",
    "# Evaluate the model's performance on test data\n",
    "evaluator = MulticlassClassificationEvaluator(labelCol='STATUS', metricName='accuracy')\n",
    "accuracy = evaluator.evaluate(predictions)\n",
    "\n",
    "print(f\"Test accuracy: {accuracy:.4f}\")\n",
    "\n",
    "\n",
    "\n",
    "# Evaluate the model's performance on test data\n",
    "evaluator = BinaryClassificationEvaluator(labelCol='STATUS')\n",
    "auc = evaluator.evaluate(predictions)"
   ]
  }
 ],
 "metadata": {
  "colab": {
   "provenance": []
  },
  "kernelspec": {
   "display_name": "Python 3 (ipykernel)",
   "language": "python",
   "name": "python3"
  },
  "language_info": {
   "codemirror_mode": {
    "name": "ipython",
    "version": 3
   },
   "file_extension": ".py",
   "mimetype": "text/x-python",
   "name": "python",
   "nbconvert_exporter": "python",
   "pygments_lexer": "ipython3",
   "version": "3.11.5"
  }
 },
 "nbformat": 4,
 "nbformat_minor": 1
}
